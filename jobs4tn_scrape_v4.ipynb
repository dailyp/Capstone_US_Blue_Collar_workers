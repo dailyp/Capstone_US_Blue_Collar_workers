{
 "cells": [
  {
   "cell_type": "markdown",
   "metadata": {},
   "source": [
    "### Webscraping Jobs4TN.gov site for Manufacturing \"blue collar workers\" jobs\n",
    "\n",
    "Taken from, \"Webscraping with selenium and xpath, prepared by Tingting for Nashville Software School DS4 on 10/24/2020\"\n",
    "\n",
    "Agenda:<br>\n",
    "Section 1. The challenge<br>\n",
    "Section 2. The solution<br>\n",
    "Section 3. Code breakdown<br>\n",
    "Section 4. References<br>"
   ]
  },
  {
   "cell_type": "markdown",
   "metadata": {},
   "source": [
    "### Section 1. The challenge: \n",
    "\n",
    "Search Jobs4TN site with key \"blue collar\" job titles (Material Handler, Assembler, and warehouse) and output into a list.  Columns will take in Job Title, Employer/Location, Pay Rate, Job Description.    \n"
   ]
  },
  {
   "cell_type": "markdown",
   "metadata": {},
   "source": [
    "### Section 2. The solution: \n"
   ]
  },
  {
   "cell_type": "code",
   "execution_count": 1,
   "metadata": {},
   "outputs": [],
   "source": [
    "import pandas as pd\n",
    "from selenium.common.exceptions import NoSuchElementException, ElementClickInterceptedException\n",
    "from selenium import webdriver\n",
    "from lxml import etree\n",
    "import time\n",
    "from selenium.webdriver.common.action_chains import ActionChains"
   ]
  },
  {
   "cell_type": "code",
   "execution_count": 2,
   "metadata": {},
   "outputs": [
    {
     "data": {
      "text/html": [
       "<div>\n",
       "<style scoped>\n",
       "    .dataframe tbody tr th:only-of-type {\n",
       "        vertical-align: middle;\n",
       "    }\n",
       "\n",
       "    .dataframe tbody tr th {\n",
       "        vertical-align: top;\n",
       "    }\n",
       "\n",
       "    .dataframe thead th {\n",
       "        text-align: right;\n",
       "    }\n",
       "</style>\n",
       "<table border=\"1\" class=\"dataframe\">\n",
       "  <thead>\n",
       "    <tr style=\"text-align: right;\">\n",
       "      <th></th>\n",
       "      <th>Input</th>\n",
       "    </tr>\n",
       "  </thead>\n",
       "  <tbody>\n",
       "    <tr>\n",
       "      <th>0</th>\n",
       "      <td>Material Handler</td>\n",
       "    </tr>\n",
       "    <tr>\n",
       "      <th>1</th>\n",
       "      <td>Assembler</td>\n",
       "    </tr>\n",
       "    <tr>\n",
       "      <th>2</th>\n",
       "      <td>warehouse</td>\n",
       "    </tr>\n",
       "  </tbody>\n",
       "</table>\n",
       "</div>"
      ],
      "text/plain": [
       "              Input\n",
       "0  Material Handler\n",
       "1         Assembler\n",
       "2         warehouse"
      ]
     },
     "execution_count": 2,
     "metadata": {},
     "output_type": "execute_result"
    }
   ],
   "source": [
    "sample_data = pd.read_csv('data/sample_data.csv')\n",
    "sample_data.head(3)"
   ]
  },
  {
   "cell_type": "code",
   "execution_count": 3,
   "metadata": {},
   "outputs": [],
   "source": [
    "driver = webdriver.Chrome(executable_path=r'C:\\Users\\daily\\.wdm\\drivers\\chromedriver\\win32\\90.0.4430.24\\chromedriver.exe')"
   ]
  },
  {
   "cell_type": "code",
   "execution_count": 4,
   "metadata": {},
   "outputs": [],
   "source": [
    "input_jobs=[]\n",
    "jobtitles=[]\n",
    "employers=[]\n",
    "#locations=[]\n",
    "payrates=[]\n",
    "job_descriptions=[]"
   ]
  },
  {
   "cell_type": "code",
   "execution_count": 5,
   "metadata": {},
   "outputs": [],
   "source": [
    "for i in sample_data['Input'][:2]:\n",
    "    try:\n",
    "        url = 'https://www.jobs4tn.gov/'\n",
    "        driver.get(url)\n",
    "        time.sleep(5)\n",
    "\n",
    "        input_box=driver.find_element_by_xpath('//input[@class=\"form-control\"]')\n",
    "        input_box.clear()\n",
    "        input_box.send_keys(i)\n",
    "        time.sleep(3)\n",
    "\n",
    "        #Click \"Search\"\n",
    "        search_button=driver.find_element_by_xpath('//a[@class=\"btn btn-warning custom-button\"]').click()\n",
    "        time.sleep(1)\n",
    "        \n",
    "        #The site serves up job classes to choose from.  Click all.  Note that I will need to cleanse df later. \n",
    "        job_class = driver.find_element_by_xpath('//*[@id=\"spnJobSearchKeyOccGroupBtns\"]/div[5]/button')\n",
    "        time.sleep(2)\n",
    "        \n",
    "        html = etree.HTML(driver.page_source) \n",
    "        time.sleep(5)\n",
    "\n",
    "        \n",
    "        jobtitle = driver.find.element_byxpath('//*[@id=\"ctl00_Main_content_JobSearch_CardList_cardList_r1\"]/div/div/div[1]/div[1]/div/div[2]/h3/a')\n",
    "        #html.xpath('//a[@class=\"JCardTitle\"]/span[1]/text()')\n",
    "        #'.//div[@class=\"infoEntity\"]//label[text()=\"Headquarters\"]//following-sibling::*').text       \n",
    "        \n",
    "        employer = html.xpath('//p[@class=\"JCardEmployer\"]/text()')\n",
    "        #location = html.xpath('//a[@class=\"\"]/text()')   Location is next to the employer name on the face page\n",
    "        \n",
    "        payrate = html.xpath('//a[@class=\"JCardTypePay\"]/text()')       \n",
    "        \n",
    "        job_description = html.xpath('//a[@class=\"JCardDescription\"]/text()')\n",
    "        \n",
    "        input_jobs.append(i)\n",
    "        \n",
    "        if len(jobtitle)<=1:\n",
    "            jobtitles.append('blank')\n",
    "        else:\n",
    "            jobtitles.append(jobtitle[0])\n",
    "            \n",
    "            \n",
    "        if len(employer)<=1:\n",
    "            employers.append('blank')\n",
    "        else:\n",
    "            employers.append(employer[0])\n",
    "\n",
    "    \n",
    " \n",
    "        if len(payrate) <= 1:\n",
    "            payrates.append('blank')\n",
    "        else:\n",
    "            payrates.append(payrate[0])\n",
    "            \n",
    "    \n",
    "        if len(job_description) <= 1:\n",
    "            job_descriptions.append('blank')\n",
    "        else:\n",
    "            job_descriptions.append(job_description[0])\n",
    "\n",
    "        time.sleep(5)\n",
    "    \n",
    "    \n",
    "        if len(jobtitles) % 1 == 0:\n",
    "            pd.DataFrame(\n",
    "                {'input_job': input_jobs,\n",
    "                 'jobtitle': jobtitles,\n",
    "                 'employer': employers,\n",
    "                 'payrate' : payrates,\n",
    "                 'job_descriptions': job_description\n",
    "                }).to_csv(\"{}_bak.csv\".format('job_checker'), index = False)\n",
    "\n",
    "    except:\n",
    "        None"
   ]
  },
  {
   "cell_type": "code",
   "execution_count": 6,
   "metadata": {},
   "outputs": [],
   "source": [
    "pd.DataFrame({'input_job': input_jobs,\n",
    "              'jobtitle': jobtitles,\n",
    "              'employer': employers,\n",
    "              'payrate' : payrates,\n",
    "              'job_description': job_descriptions\n",
    "             }).to_csv('job_checker' + '.csv', encoding='utf8', index = False)\n",
    "bluecollar_jobs = pd.read_csv('job_checker.csv')"
   ]
  },
  {
   "cell_type": "code",
   "execution_count": 7,
   "metadata": {},
   "outputs": [
    {
     "data": {
      "text/html": [
       "<div>\n",
       "<style scoped>\n",
       "    .dataframe tbody tr th:only-of-type {\n",
       "        vertical-align: middle;\n",
       "    }\n",
       "\n",
       "    .dataframe tbody tr th {\n",
       "        vertical-align: top;\n",
       "    }\n",
       "\n",
       "    .dataframe thead th {\n",
       "        text-align: right;\n",
       "    }\n",
       "</style>\n",
       "<table border=\"1\" class=\"dataframe\">\n",
       "  <thead>\n",
       "    <tr style=\"text-align: right;\">\n",
       "      <th></th>\n",
       "      <th>input_job</th>\n",
       "      <th>jobtitle</th>\n",
       "      <th>employer</th>\n",
       "      <th>payrate</th>\n",
       "      <th>job_description</th>\n",
       "    </tr>\n",
       "  </thead>\n",
       "  <tbody>\n",
       "  </tbody>\n",
       "</table>\n",
       "</div>"
      ],
      "text/plain": [
       "Empty DataFrame\n",
       "Columns: [input_job, jobtitle, employer, payrate, job_description]\n",
       "Index: []"
      ]
     },
     "execution_count": 7,
     "metadata": {},
     "output_type": "execute_result"
    }
   ],
   "source": [
    "bluecollar_jobs.tail(5)"
   ]
  },
  {
   "cell_type": "code",
   "execution_count": null,
   "metadata": {},
   "outputs": [],
   "source": []
  },
  {
   "cell_type": "markdown",
   "metadata": {},
   "source": [
    "### Section 3: Code breakdown"
   ]
  },
  {
   "cell_type": "code",
   "execution_count": 8,
   "metadata": {},
   "outputs": [],
   "source": [
    "jobsearch= 'Material Handler'"
   ]
  },
  {
   "cell_type": "code",
   "execution_count": 9,
   "metadata": {},
   "outputs": [],
   "source": [
    "driver = webdriver.Chrome(executable_path=r'C:\\Users\\daily\\.wdm\\drivers\\chromedriver\\win32\\90.0.4430.24\\chromedriver.exe')"
   ]
  },
  {
   "cell_type": "code",
   "execution_count": 10,
   "metadata": {},
   "outputs": [],
   "source": [
    "url = 'https://www.jobs4tn.gov/'"
   ]
  },
  {
   "cell_type": "code",
   "execution_count": 11,
   "metadata": {},
   "outputs": [],
   "source": [
    "driver.get(url)"
   ]
  },
  {
   "cell_type": "code",
   "execution_count": 12,
   "metadata": {},
   "outputs": [],
   "source": [
    "input_box=driver.find_element_by_xpath('//input[@class=\"form-control\"]')"
   ]
  },
  {
   "cell_type": "code",
   "execution_count": 13,
   "metadata": {},
   "outputs": [],
   "source": [
    "input_box.clear()\n",
    "input_box.send_keys(jobsearch)"
   ]
  },
  {
   "cell_type": "code",
   "execution_count": 14,
   "metadata": {},
   "outputs": [],
   "source": [
    "search_button=driver.find_element_by_xpath('//a[@class=\"btn btn-warning custom-button\"]')\n",
    "search_button.click()"
   ]
  },
  {
   "cell_type": "code",
   "execution_count": 16,
   "metadata": {},
   "outputs": [],
   "source": [
    "job_class = driver.find_element_by_xpath('//*[@id=\"spnJobSearchKeyOccGroupBtns\"]/div[4]/button')\n",
    "job_class.click()"
   ]
  },
  {
   "cell_type": "code",
   "execution_count": 17,
   "metadata": {},
   "outputs": [],
   "source": [
    "html = etree.HTML(driver.page_source) "
   ]
  },
  {
   "cell_type": "code",
   "execution_count": 18,
   "metadata": {},
   "outputs": [],
   "source": [
    "jobtitle = html.xpath('//a[@class=\"JCardTitle\"]/span[1]/text()')"
   ]
  },
  {
   "cell_type": "code",
   "execution_count": 19,
   "metadata": {},
   "outputs": [
    {
     "data": {
      "text/plain": [
       "['Material',\n",
       " 'Material',\n",
       " 'Material',\n",
       " 'Material',\n",
       " 'Material',\n",
       " 'Material',\n",
       " 'Material',\n",
       " 'Material',\n",
       " 'MATERIAL']"
      ]
     },
     "execution_count": 19,
     "metadata": {},
     "output_type": "execute_result"
    }
   ],
   "source": [
    "jobtitle"
   ]
  },
  {
   "cell_type": "code",
   "execution_count": 20,
   "metadata": {},
   "outputs": [
    {
     "data": {
      "text/plain": [
       "'Material'"
      ]
     },
     "execution_count": 20,
     "metadata": {},
     "output_type": "execute_result"
    }
   ],
   "source": [
    "jobtitle[0]"
   ]
  },
  {
   "cell_type": "code",
   "execution_count": 21,
   "metadata": {},
   "outputs": [],
   "source": [
    "driver.quit()"
   ]
  },
  {
   "cell_type": "markdown",
   "metadata": {},
   "source": [
    "### Section 4: References"
   ]
  },
  {
   "cell_type": "markdown",
   "metadata": {},
   "source": [
    "Documentation for selenium: https://selenium-python.readthedocs.io/"
   ]
  },
  {
   "cell_type": "markdown",
   "metadata": {},
   "source": [
    "Documentation for xpath: https://lxml.de/xpathxslt.html"
   ]
  },
  {
   "cell_type": "code",
   "execution_count": null,
   "metadata": {},
   "outputs": [],
   "source": [
    "#         check_in_date=driver.find_element_by_xpath('//td[@data-date=\"2020-10-29\"]').click()\n",
    "#         time.sleep(1)\n",
    "#         check_out_date=driver.find_element_by_xpath('//td[@data-date=\"2020-10-30\"]').click()        \n",
    "#         time.sleep(5)"
   ]
  },
  {
   "cell_type": "code",
   "execution_count": null,
   "metadata": {},
   "outputs": [],
   "source": [
    "     \n",
    "#             if len(nightly_price_closure) <= 1:\n",
    "#                 nightly_price = html.xpath('//div[@class=\"prco-inline-block-maker-helper\"]/span[1]/text()')[0]\n",
    "\n",
    "#         if len(payrate) <= 1:\n",
    "#             payrates.append('blank')\n",
    "#         else:\n",
    "#             payrates.append(payrate[0])\n",
    "#             else:\n",
    "#                 nightly_prices.append(nightly_price_closure[0])\n",
    "#         except:\n",
    "#             nightly_prices.append('blank')"
   ]
  },
  {
   "cell_type": "code",
   "execution_count": null,
   "metadata": {},
   "outputs": [],
   "source": [
    "# date_box=driver.find_element_by_xpath('//div[@class=\"xp__input-group xp__date-time\"]').click()\n",
    "\n",
    "# check_in_date=driver.find_element_by_xpath('//td[@data-date=\"2020-10-29\"]').click()\n",
    "# check_out_date=driver.find_element_by_xpath('//td[@data-date=\"2020-10-30\"]').click()"
   ]
  },
  {
   "cell_type": "code",
   "execution_count": null,
   "metadata": {},
   "outputs": [],
   "source": [
    "#driver.find_element_by_xpath('//div[@class=\"btn btn-block btn-light UTItextbold UTIborderwidth1px client-border-color\"][@type = 'button']')\n",
    "#('//div[@class=\"btn btn-block btn-light UTItextbold UTIborderwidth1px client-border-color\" and @type = \"button\"]')\n",
    "\n",
    "#driver.find_element_by_xpath('//div[@class=\"btn btn-block btn-light UTItextbold UTIborderwidth1px client-border-color\" and @type=\"button\"]')\n",
    "#job_class = driver.find_element_by_xpath('//button[@class=\"HPRpaddingbottom5\"]/class[4]')"
   ]
  },
  {
   "cell_type": "code",
   "execution_count": null,
   "metadata": {},
   "outputs": [],
   "source": [
    " #job_class = driver.find_element_by_xpath('//span[@id=\"spnJobSearchKeyOccGrpBtns\"]/class[5]').click()\n",
    "        #job_class = driver.find_element_by_xpath('.//div[@class=\"HPRpaddingbottom5\"][@type=\"button\"[5]]').click()\n",
    "        #job_class = driver.find_element_by_xpath('//button[@class=\"btn btn-block btn-light UTItextbold UTIborderwidth1px client-border-color\"]').click()\n",
    "       \n",
    "        #in case I need this code\n",
    "        #<button type=\"button\" class=\"btn btn-block btn-light UTItextbold UTIborderwidth1px client-border-color\" \\ \n",
    "        #data-dismiss=\"modal\" \n",
    "        #\"Transportation and Material Moving Occupations&nbsp;\"\n",
    "        #\"btn btn-primary btn-block client-color\"]"
   ]
  }
 ],
 "metadata": {
  "kernelspec": {
   "display_name": "Python 3",
   "language": "python",
   "name": "python3"
  },
  "language_info": {
   "codemirror_mode": {
    "name": "ipython",
    "version": 3
   },
   "file_extension": ".py",
   "mimetype": "text/x-python",
   "name": "python",
   "nbconvert_exporter": "python",
   "pygments_lexer": "ipython3",
   "version": "3.8.3"
  }
 },
 "nbformat": 4,
 "nbformat_minor": 4
}
