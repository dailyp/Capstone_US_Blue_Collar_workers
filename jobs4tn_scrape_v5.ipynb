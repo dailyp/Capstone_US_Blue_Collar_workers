{
 "cells": [
  {
   "cell_type": "code",
   "execution_count": 91,
   "metadata": {},
   "outputs": [],
   "source": [
    "import pandas as pd\n",
    "from selenium import webdriver\n",
    "from lxml import etree\n",
    "import time\n",
    "from selenium.webdriver.common.action_chains import ActionChains"
   ]
  },
  {
   "cell_type": "markdown",
   "metadata": {},
   "source": [
    "### Section 3: Code breakdown"
   ]
  },
  {
   "cell_type": "code",
   "execution_count": 92,
   "metadata": {},
   "outputs": [],
   "source": [
    "driver = webdriver.Chrome(executable_path=r'C:\\Users\\daily\\.wdm\\drivers\\chromedriver\\win32\\90.0.4430.24\\chromedriver.exe')                         "
   ]
  },
  {
   "cell_type": "code",
   "execution_count": 93,
   "metadata": {},
   "outputs": [],
   "source": [
    "url = 'https://www.jobs4tn.gov/'"
   ]
  },
  {
   "cell_type": "code",
   "execution_count": 94,
   "metadata": {},
   "outputs": [],
   "source": [
    "driver.get(url)"
   ]
  },
  {
   "cell_type": "code",
   "execution_count": 95,
   "metadata": {},
   "outputs": [],
   "source": [
    "html = etree.HTML(driver.page_source) "
   ]
  },
  {
   "cell_type": "code",
   "execution_count": 96,
   "metadata": {},
   "outputs": [],
   "source": [
    "link = html.xpath('//a[@class=\"JCardTitle\"]/@href')"
   ]
  },
  {
   "cell_type": "code",
   "execution_count": 43,
   "metadata": {},
   "outputs": [],
   "source": [
    "title = html.xpath('//a[@class=\"JCardTitle\"]')"
   ]
  },
  {
   "cell_type": "code",
   "execution_count": 44,
   "metadata": {},
   "outputs": [],
   "source": [
    "#t.getchildren"
   ]
  },
  {
   "cell_type": "code",
   "execution_count": 97,
   "metadata": {},
   "outputs": [],
   "source": [
    "titles = []\n",
    "for n,t in enumerate (title):\n",
    "    children = t.getchildren()\n",
    "    if children: \n",
    "        titles.append(' '.join([e.text for e in children]))  #?? is this right? \n",
    "    else:\n",
    "         titles.append(t.text.strip())"
   ]
  },
  {
   "cell_type": "code",
   "execution_count": 98,
   "metadata": {},
   "outputs": [
    {
     "data": {
      "text/plain": [
       "['Forklift Driver',\n",
       " 'Material Handler',\n",
       " 'Material Handler',\n",
       " 'Material Handler',\n",
       " 'Material Handler',\n",
       " 'Material Handler',\n",
       " 'Material Handler',\n",
       " 'Material Handler',\n",
       " 'Material Handler',\n",
       " 'Material Handler']"
      ]
     },
     "execution_count": 98,
     "metadata": {},
     "output_type": "execute_result"
    }
   ],
   "source": [
    "titles"
   ]
  },
  {
   "cell_type": "code",
   "execution_count": 99,
   "metadata": {},
   "outputs": [],
   "source": [
    "employer = html.xpath('//span[@class=\"JCardEmployer \"]/text()')  \n",
    "#employer = html.xpath('//span[@class=\"JCardEmployer \"]/text()')"
   ]
  },
  {
   "cell_type": "code",
   "execution_count": 100,
   "metadata": {},
   "outputs": [
    {
     "data": {
      "text/plain": [
       "['                                  DSV - New Johnsonville, TN             ',\n",
       " '                                  Not Available - Lebanon, TN             ',\n",
       " '                                  Not Available - Sweetwater, TN             ',\n",
       " '                 ',\n",
       " '                 Staffmark Investment LLC - Memphis, TN             ',\n",
       " '                 ',\n",
       " '                 Staffmark Investment LLC - Mount Juliet, TN             ',\n",
       " '                 ',\n",
       " '                 Univar Solutions USA Inc. - Chattanooga, TN             ',\n",
       " '                 ',\n",
       " '                 A.O. Smith Corporation - Franklin, TN             ',\n",
       " '                 ',\n",
       " '                 Urban Staffing Solution LLC - Memphis, TN             ',\n",
       " '                 ',\n",
       " '                 Staffmark Investment LLC - Whites Creek, TN             ',\n",
       " '                 ',\n",
       " '                 Staffmark Investment LLC - Whites Creek, TN             ']"
      ]
     },
     "execution_count": 100,
     "metadata": {},
     "output_type": "execute_result"
    }
   ],
   "source": [
    "employer "
   ]
  },
  {
   "cell_type": "code",
   "execution_count": 133,
   "metadata": {},
   "outputs": [],
   "source": [
    "tag = html.xpath('//img[@class=\"JCardSourcePreferred\"]')\n"
   ]
  },
  {
   "cell_type": "code",
   "execution_count": null,
   "metadata": {},
   "outputs": [],
   "source": [
    "#TRY THIS NEXT\n",
    "#https://stackoverflow.com/questions/13764934/remove-white-space-from-text-that-i-scraped-from-website"
   ]
  },
  {
   "cell_type": "code",
   "execution_count": 134,
   "metadata": {},
   "outputs": [],
   "source": [
    "employer = html.xpath('//span[@class=\"JCardEmployer \"]/text()') "
   ]
  },
  {
   "cell_type": "code",
   "execution_count": 135,
   "metadata": {},
   "outputs": [
    {
     "data": {
      "text/plain": [
       "['                                  DSV - New Johnsonville, TN             ',\n",
       " '                                  Not Available - Lebanon, TN             ',\n",
       " '                                  Not Available - Sweetwater, TN             ',\n",
       " '                 ',\n",
       " '                 Staffmark Investment LLC - Memphis, TN             ',\n",
       " '                 ',\n",
       " '                 Staffmark Investment LLC - Mount Juliet, TN             ',\n",
       " '                 ',\n",
       " '                 Univar Solutions USA Inc. - Chattanooga, TN             ',\n",
       " '                 ',\n",
       " '                 A.O. Smith Corporation - Franklin, TN             ',\n",
       " '                 ',\n",
       " '                 Urban Staffing Solution LLC - Memphis, TN             ',\n",
       " '                 ',\n",
       " '                 Staffmark Investment LLC - Whites Creek, TN             ',\n",
       " '                 ',\n",
       " '                 Staffmark Investment LLC - Whites Creek, TN             ']"
      ]
     },
     "execution_count": 135,
     "metadata": {},
     "output_type": "execute_result"
    }
   ],
   "source": [
    "employer"
   ]
  },
  {
   "cell_type": "code",
   "execution_count": 136,
   "metadata": {},
   "outputs": [],
   "source": [
    "employer = html.xpath('//span[@class=\"JCardEmployer \"]') "
   ]
  },
  {
   "cell_type": "code",
   "execution_count": 137,
   "metadata": {},
   "outputs": [
    {
     "data": {
      "text/plain": [
       "[<Element span at 0x19ddf285e00>,\n",
       " <Element span at 0x19ddf27cb80>,\n",
       " <Element span at 0x19ddf277e00>,\n",
       " <Element span at 0x19ddf277f40>,\n",
       " <Element span at 0x19ddf277580>,\n",
       " <Element span at 0x19ddf277480>,\n",
       " <Element span at 0x19ddf277e40>,\n",
       " <Element span at 0x19ddf277100>,\n",
       " <Element span at 0x19ddf273140>,\n",
       " <Element span at 0x19ddf2734c0>]"
      ]
     },
     "execution_count": 137,
     "metadata": {},
     "output_type": "execute_result"
    }
   ],
   "source": [
    "employer"
   ]
  },
  {
   "cell_type": "code",
   "execution_count": 86,
   "metadata": {},
   "outputs": [],
   "source": [
    "# employers = []\n",
    "# for n,t in enumerate (employer):\n",
    "#     children = t.getchildren()\n",
    "#     if children: \n",
    "#         employers.append(' '.join([e.text for e in children]))  #?? is this right? \n",
    "#     else:\n",
    "#          employers.append(t.text.strip())"
   ]
  },
  {
   "cell_type": "code",
   "execution_count": 138,
   "metadata": {},
   "outputs": [],
   "source": [
    "employers = []\n",
    "for employer in employers:\n",
    "    employers.append(employer.text.strip([\" \", tag]))"
   ]
  },
  {
   "cell_type": "code",
   "execution_count": 139,
   "metadata": {},
   "outputs": [
    {
     "data": {
      "text/plain": [
       "[]"
      ]
     },
     "execution_count": 139,
     "metadata": {},
     "output_type": "execute_result"
    }
   ],
   "source": [
    "employers"
   ]
  },
  {
   "cell_type": "code",
   "execution_count": 141,
   "metadata": {},
   "outputs": [],
   "source": [
    "employers = []\n",
    "for employer in employers:\n",
    "    employers.append(employer)\n",
    "    \n",
    "# if children: \n",
    "#         titles.append(' '.join([e.text for e in children])) \n",
    "# else:\n",
    "#          titles.append(t.text.strip())"
   ]
  },
  {
   "cell_type": "code",
   "execution_count": 142,
   "metadata": {},
   "outputs": [
    {
     "data": {
      "text/plain": [
       "[]"
      ]
     },
     "execution_count": 142,
     "metadata": {},
     "output_type": "execute_result"
    }
   ],
   "source": [
    "employers"
   ]
  },
  {
   "cell_type": "code",
   "execution_count": 143,
   "metadata": {},
   "outputs": [],
   "source": [
    "# employers = []\n",
    "# for n,t in enumerate (employer):\n",
    "#     children = t.getchildren\n",
    "#     if children: \n",
    "#         employers.append(' '.join([e.text for e in children]))\n",
    "#     else:\n",
    "#         employers.append(t.text.strip())"
   ]
  },
  {
   "cell_type": "code",
   "execution_count": 31,
   "metadata": {},
   "outputs": [],
   "source": [
    "firsthalf =html.xpath('//a[@class=\"JCardTitle\"]/text()')"
   ]
  },
  {
   "cell_type": "code",
   "execution_count": 32,
   "metadata": {},
   "outputs": [
    {
     "data": {
      "text/plain": [
       "[]"
      ]
     },
     "execution_count": 32,
     "metadata": {},
     "output_type": "execute_result"
    }
   ],
   "source": [
    "firsthalf"
   ]
  },
  {
   "cell_type": "code",
   "execution_count": 33,
   "metadata": {},
   "outputs": [],
   "source": [
    "sechalf = html.xpath('//a[@class=\"JCardTitle\"]/span[@class=\"highlight_keyword\"][1]/text()')"
   ]
  },
  {
   "cell_type": "code",
   "execution_count": 34,
   "metadata": {},
   "outputs": [
    {
     "data": {
      "text/plain": [
       "[]"
      ]
     },
     "execution_count": 34,
     "metadata": {},
     "output_type": "execute_result"
    }
   ],
   "source": [
    "sechalf"
   ]
  },
  {
   "cell_type": "code",
   "execution_count": 35,
   "metadata": {},
   "outputs": [],
   "source": [
    "thirdhalf = html.xpath('//a[@class=\"JCardTitle\"]/span[@class=\"highlight_keyword\"][2]/text()')"
   ]
  },
  {
   "cell_type": "code",
   "execution_count": 36,
   "metadata": {},
   "outputs": [
    {
     "data": {
      "text/plain": [
       "[]"
      ]
     },
     "execution_count": 36,
     "metadata": {},
     "output_type": "execute_result"
    }
   ],
   "source": [
    "thirdhalf"
   ]
  },
  {
   "cell_type": "code",
   "execution_count": null,
   "metadata": {},
   "outputs": [],
   "source": []
  },
  {
   "cell_type": "markdown",
   "metadata": {},
   "source": [
    "### Section 4: References"
   ]
  },
  {
   "cell_type": "markdown",
   "metadata": {},
   "source": [
    "Documentation for selenium: https://selenium-python.readthedocs.io/"
   ]
  },
  {
   "cell_type": "markdown",
   "metadata": {},
   "source": [
    "Documentation for xpath: https://lxml.de/xpathxslt.html"
   ]
  },
  {
   "cell_type": "code",
   "execution_count": null,
   "metadata": {},
   "outputs": [],
   "source": []
  }
 ],
 "metadata": {
  "kernelspec": {
   "display_name": "Python 3",
   "language": "python",
   "name": "python3"
  },
  "language_info": {
   "codemirror_mode": {
    "name": "ipython",
    "version": 3
   },
   "file_extension": ".py",
   "mimetype": "text/x-python",
   "name": "python",
   "nbconvert_exporter": "python",
   "pygments_lexer": "ipython3",
   "version": "3.8.3"
  }
 },
 "nbformat": 4,
 "nbformat_minor": 4
}
