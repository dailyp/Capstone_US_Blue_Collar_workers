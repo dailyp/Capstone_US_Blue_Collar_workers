{
 "cells": [
  {
   "cell_type": "code",
   "execution_count": 39,
   "metadata": {},
   "outputs": [],
   "source": [
    "import requests\n",
    "import json"
   ]
  },
  {
   "cell_type": "code",
   "execution_count": 62,
   "metadata": {},
   "outputs": [],
   "source": [
    "URL = 'https://www.jobs4tn.gov/vosnet/Handlers/jobsearch.ashx'"
   ]
  },
  {
   "cell_type": "markdown",
   "metadata": {},
   "source": [
    "To set the number of records, change the pageInfo[pageLen]. There is some cap, but it looks like it can pull at least 1000 at a time.\n",
    "\n",
    "To pull in the next page of results, change the pageInfo[page]."
   ]
  },
  {
   "cell_type": "code",
   "execution_count": 63,
   "metadata": {},
   "outputs": [],
   "source": [
    "data = '''\n",
    "cmd: JOBDATA\n",
    "data: P2VuYz1SRWxtV1R3MSs3VGZIcXlFWDY2R3hjdldsY2U4VFUwY0s1MnMxS1NCKytSWmQ5VFQwTjVuNjBFNVhCd3JqOHRDVGc1Um5DVzdrM011N1FKV21EalNnOEprbmxaSGVaTWpjd1FhcFUzWWJlSFlFT3N5TVFubllKUlZ2RW1oWkVoSTQ0Z1FuWDRsbVVaaE9UY25EYnIzRmswUHZjam5kQU9JZnhzNWNtbkJFQUJDK3czZXlxNWtBSFJjd0F1TTZVcVV1akVUWTlBZWp1aUgwVWlwbEJTZWs5L2RCZThxTmp2RHFpZGRyZzhwYUZWQmhEUjdtV3lNRFVLbm1HVksrVGZuMFNlTWdrVlVMR0pUd1VLV0M4RHJDK0tLR3dwem1LeW0yM2VVQ1krdXZOQWcxZi8vSis2a1ErUERubFIvWW9pRnJ5K3p2MUxUT0RCSTJvQmZ1NHZSWGhvNURwc1VEZGN1bjFIZ21rMXJ6SnFwRElaTXpZaVhsbGxIRjhBQ3U1VUZEUGhLMVN4ZVRpS2ZtTmhJbklFTXM0S0Jqb0VGdlo0S1JGQUdmejRNYmF2R1JIT2RFZi9hVURKQTl0UnFSMlFRK1lnd2VIOEdmeTB0VW52KytoZFc3S3BWa3dvWFdZYzZyQkdKdkE0TU9Sc29rWlZTNSs4QTlJQXBtODZYS0cyaXhpZUpUOUZjeFljNFd4L3JZUzJ0cTR0d2tkam94Ri9PZ0FwY3RncHNGWHdCWjdUUjdkMXViQ09yaWhKTTBZTk5rTVZFaWRpQlh0a042OFZ2dlA0bmdRPT0=\n",
    "lang: E\n",
    "pageInfo[filterChanged]: true\n",
    "pageInfo[filterLoaded]: false\n",
    "pageInfo[filterShown]: false\n",
    "pageInfo[pageLen]: 3000\n",
    "pageInfo[page]: 2\n",
    "pageInfo[searchChanged]: true\n",
    "pageInfo[filterCleared]: true\n",
    "pageInfo[requery]: true\n",
    "pageInfo[data]: \n",
    "pageInfo[sort]: Relevance\n",
    "pageInfo[recordsTotal]: 0\n",
    "pageInfo[supportsDistance]: false\n",
    "pageInfo[useStorage]: true\n",
    "pageInfo[useBaseSearch]: true\n",
    "pageInfo[recordsFiltered]: 7237\n",
    "pageInfo[keyword]: Warehouse\n",
    "params[keyword]: warehouse\n",
    "params[location]: TN\n",
    "'''"
   ]
  },
  {
   "cell_type": "code",
   "execution_count": 64,
   "metadata": {},
   "outputs": [],
   "source": [
    "data = {x.split(': ')[0]: x.split(': ')[1] for x in data.split('\\n') if x != ''}"
   ]
  },
  {
   "cell_type": "code",
   "execution_count": 65,
   "metadata": {},
   "outputs": [
    {
     "data": {
      "text/plain": [
       "{'cmd': 'JOBDATA',\n",
       " 'data': 'P2VuYz1SRWxtV1R3MSs3VGZIcXlFWDY2R3hjdldsY2U4VFUwY0s1MnMxS1NCKytSWmQ5VFQwTjVuNjBFNVhCd3JqOHRDVGc1Um5DVzdrM011N1FKV21EalNnOEprbmxaSGVaTWpjd1FhcFUzWWJlSFlFT3N5TVFubllKUlZ2RW1oWkVoSTQ0Z1FuWDRsbVVaaE9UY25EYnIzRmswUHZjam5kQU9JZnhzNWNtbkJFQUJDK3czZXlxNWtBSFJjd0F1TTZVcVV1akVUWTlBZWp1aUgwVWlwbEJTZWs5L2RCZThxTmp2RHFpZGRyZzhwYUZWQmhEUjdtV3lNRFVLbm1HVksrVGZuMFNlTWdrVlVMR0pUd1VLV0M4RHJDK0tLR3dwem1LeW0yM2VVQ1krdXZOQWcxZi8vSis2a1ErUERubFIvWW9pRnJ5K3p2MUxUT0RCSTJvQmZ1NHZSWGhvNURwc1VEZGN1bjFIZ21rMXJ6SnFwRElaTXpZaVhsbGxIRjhBQ3U1VUZEUGhLMVN4ZVRpS2ZtTmhJbklFTXM0S0Jqb0VGdlo0S1JGQUdmejRNYmF2R1JIT2RFZi9hVURKQTl0UnFSMlFRK1lnd2VIOEdmeTB0VW52KytoZFc3S3BWa3dvWFdZYzZyQkdKdkE0TU9Sc29rWlZTNSs4QTlJQXBtODZYS0cyaXhpZUpUOUZjeFljNFd4L3JZUzJ0cTR0d2tkam94Ri9PZ0FwY3RncHNGWHdCWjdUUjdkMXViQ09yaWhKTTBZTk5rTVZFaWRpQlh0a042OFZ2dlA0bmdRPT0=',\n",
       " 'lang': 'E',\n",
       " 'pageInfo[filterChanged]': 'true',\n",
       " 'pageInfo[filterLoaded]': 'false',\n",
       " 'pageInfo[filterShown]': 'false',\n",
       " 'pageInfo[pageLen]': '3000',\n",
       " 'pageInfo[page]': '2',\n",
       " 'pageInfo[searchChanged]': 'true',\n",
       " 'pageInfo[filterCleared]': 'true',\n",
       " 'pageInfo[requery]': 'true',\n",
       " 'pageInfo[data]': '',\n",
       " 'pageInfo[sort]': 'Relevance',\n",
       " 'pageInfo[recordsTotal]': '0',\n",
       " 'pageInfo[supportsDistance]': 'false',\n",
       " 'pageInfo[useStorage]': 'true',\n",
       " 'pageInfo[useBaseSearch]': 'true',\n",
       " 'pageInfo[recordsFiltered]': '7237',\n",
       " 'pageInfo[keyword]': 'Warehouse',\n",
       " 'params[keyword]': 'warehouse',\n",
       " 'params[location]': 'TN'}"
      ]
     },
     "execution_count": 65,
     "metadata": {},
     "output_type": "execute_result"
    }
   ],
   "source": [
    "data"
   ]
  },
  {
   "cell_type": "code",
   "execution_count": 66,
   "metadata": {},
   "outputs": [],
   "source": [
    "headers = '''\n",
    "Accept: application/json, text/javascript, */*; q=0.01\n",
    "Accept-Encoding: gzip, deflate, br\n",
    "Accept-Language: en-US,en;q=0.9\n",
    "Connection: keep-alive\n",
    "Content-Length: 1370\n",
    "Content-Type: application/x-www-form-urlencoded; charset=UTF-8\n",
    "Cookie: _fbp=fb.1.1621884609433.1322663967; _ga=GA1.2.901955180.1621884610; __zlcmid=14Fk3QjkbwWnaxa; com.geosolinc.JOBS4TN-smartbanner-installed=true; ASPSESSIONIDCUAAAASB=EKNJOADAJOLIGBOCNICCCAGM; ASP.NET_SessionId=22uecih5co25nznwg1t332nc; __AntiXsrfToken=96490af04de547b4b412d1736d4f1a9e; GSILB=1601TN-51eecabc585a44b4862dfc5ad8da57a3; rxVisitor=1622696884710KK81PF48GA0FBK94B1R8TA7MPLLAJ8M2; _gid=GA1.2.1351309332.1622696886; dtCookie=v_4_srv_6_sn_4820F247017989ADAE99F80781ACE7CE_perc_100000_ol_0_mul_1_app-3A87ea09184799955a_1; ASPSESSIONIDAUBDCDRA=MBOFEIDAIKJHLCPNDCLNLFNG; TS0117f193=0135fc09d300b7d54f32665d39f6565b7e1d56fc8269f00a086b51a74736f101bf6cc8e060f2389d75542b57aaccb108d99dd703be; SID=43299003fc724ed1923e1a034336711a; _gat_UA-57055354-1=1; dtSa=-; ReferringPage=https%3a%2f%2fwww.jobs4tn.gov%2fvosnet%2fjobbanks%2fjoblist.aspx%3fenc%3d91AiPJzms5asTnW2vfcWh8Nb9n04fVG1CBQKwGz3qzfZbSUMEnSmgPakz3CkzNUbcT8Et+xzBq7vLntU40K337uQy%2f8Dsw+sMEpRLXnVRksqAyu2ZeerX8ELIJ5OnThmwqzcurInaalVxY%2f7W1uPdCz2FTs0UHL6Ah88RxvSWAVDkDu5Co0C4jURix1lZdViZ3eWIe7cnkO5lYvnvWDZzg%3d%3d; CurrentPage=%2fvosnet%2frb_446943dc-5a5b-460d-b20d-920e40a6c321; TSe0f1bccd027=0866627b7bab2000c4b0f9a12fa79579262a4c8318aaa5e5647984f3b85320c63be30f77db7b2c5008f33601be113000f823341c09b75c6a7552fe411c3b454531399c1113b27e88a8fda8f8fd457a2595c6f20d87fc9950deafc17474e107b5; dtLatC=2; rxvt=1622704637567|1622702307155; dtPC=6$302815630_755h17vDMCWUHDHCCKKBOIEHUWFTWJAFMMKFORF-0e23\n",
    "Host: www.jobs4tn.gov\n",
    "Origin: https://www.jobs4tn.gov\n",
    "Referer: https://www.jobs4tn.gov/vosnet/jobbanks/joblist.aspx?enc=91AiPJzms5asTnW2vfcWh8Nb9n04fVG1CBQKwGz3qzfZbSUMEnSmgPakz3CkzNUbcT8Et+xzBq7vLntU40K337uQy/8Dsw+sMEpRLXnVRksqAyu2ZeerX8ELIJ5OnThmwqzcurInaalVxY/7W1uPdCz2FTs0UHL6Ah88RxvSWAVDkDu5Co0C4jURix1lZdViZ3eWIe7cnkO5lYvnvWDZzg==\n",
    "sec-ch-ua: \" Not;A Brand\";v=\"99\", \"Google Chrome\";v=\"91\", \"Chromium\";v=\"91\"\n",
    "sec-ch-ua-mobile: ?0\n",
    "Sec-Fetch-Dest: empty\n",
    "Sec-Fetch-Mode: cors\n",
    "Sec-Fetch-Site: same-origin\n",
    "User-Agent: Mozilla/5.0 (Windows NT 10.0; Win64; x64) AppleWebKit/537.36 (KHTML, like Gecko) Chrome/91.0.4472.77 Safari/537.36\n",
    "x-dtpc: 6$302815630_755h16vDMCWUHDHCCKKBOIEHUWFTWJAFMMKFORF-0e23\n",
    "X-Requested-With: XMLHttpRequest\n",
    "'''"
   ]
  },
  {
   "cell_type": "code",
   "execution_count": 67,
   "metadata": {},
   "outputs": [],
   "source": [
    "headers = {x.split(': ')[0]: x.split(': ')[1] for x in headers.split('\\n') if x != ''}"
   ]
  },
  {
   "cell_type": "code",
   "execution_count": 68,
   "metadata": {},
   "outputs": [
    {
     "data": {
      "text/plain": [
       "{'Accept': 'application/json, text/javascript, */*; q=0.01',\n",
       " 'Accept-Encoding': 'gzip, deflate, br',\n",
       " 'Accept-Language': 'en-US,en;q=0.9',\n",
       " 'Connection': 'keep-alive',\n",
       " 'Content-Length': '1370',\n",
       " 'Content-Type': 'application/x-www-form-urlencoded; charset=UTF-8',\n",
       " 'Cookie': '_fbp=fb.1.1621884609433.1322663967; _ga=GA1.2.901955180.1621884610; __zlcmid=14Fk3QjkbwWnaxa; com.geosolinc.JOBS4TN-smartbanner-installed=true; ASPSESSIONIDCUAAAASB=EKNJOADAJOLIGBOCNICCCAGM; ASP.NET_SessionId=22uecih5co25nznwg1t332nc; __AntiXsrfToken=96490af04de547b4b412d1736d4f1a9e; GSILB=1601TN-51eecabc585a44b4862dfc5ad8da57a3; rxVisitor=1622696884710KK81PF48GA0FBK94B1R8TA7MPLLAJ8M2; _gid=GA1.2.1351309332.1622696886; dtCookie=v_4_srv_6_sn_4820F247017989ADAE99F80781ACE7CE_perc_100000_ol_0_mul_1_app-3A87ea09184799955a_1; ASPSESSIONIDAUBDCDRA=MBOFEIDAIKJHLCPNDCLNLFNG; TS0117f193=0135fc09d300b7d54f32665d39f6565b7e1d56fc8269f00a086b51a74736f101bf6cc8e060f2389d75542b57aaccb108d99dd703be; SID=43299003fc724ed1923e1a034336711a; _gat_UA-57055354-1=1; dtSa=-; ReferringPage=https%3a%2f%2fwww.jobs4tn.gov%2fvosnet%2fjobbanks%2fjoblist.aspx%3fenc%3d91AiPJzms5asTnW2vfcWh8Nb9n04fVG1CBQKwGz3qzfZbSUMEnSmgPakz3CkzNUbcT8Et+xzBq7vLntU40K337uQy%2f8Dsw+sMEpRLXnVRksqAyu2ZeerX8ELIJ5OnThmwqzcurInaalVxY%2f7W1uPdCz2FTs0UHL6Ah88RxvSWAVDkDu5Co0C4jURix1lZdViZ3eWIe7cnkO5lYvnvWDZzg%3d%3d; CurrentPage=%2fvosnet%2frb_446943dc-5a5b-460d-b20d-920e40a6c321; TSe0f1bccd027=0866627b7bab2000c4b0f9a12fa79579262a4c8318aaa5e5647984f3b85320c63be30f77db7b2c5008f33601be113000f823341c09b75c6a7552fe411c3b454531399c1113b27e88a8fda8f8fd457a2595c6f20d87fc9950deafc17474e107b5; dtLatC=2; rxvt=1622704637567|1622702307155; dtPC=6$302815630_755h17vDMCWUHDHCCKKBOIEHUWFTWJAFMMKFORF-0e23',\n",
       " 'Host': 'www.jobs4tn.gov',\n",
       " 'Origin': 'https://www.jobs4tn.gov',\n",
       " 'Referer': 'https://www.jobs4tn.gov/vosnet/jobbanks/joblist.aspx?enc=91AiPJzms5asTnW2vfcWh8Nb9n04fVG1CBQKwGz3qzfZbSUMEnSmgPakz3CkzNUbcT8Et+xzBq7vLntU40K337uQy/8Dsw+sMEpRLXnVRksqAyu2ZeerX8ELIJ5OnThmwqzcurInaalVxY/7W1uPdCz2FTs0UHL6Ah88RxvSWAVDkDu5Co0C4jURix1lZdViZ3eWIe7cnkO5lYvnvWDZzg==',\n",
       " 'sec-ch-ua': '\" Not;A Brand\";v=\"99\", \"Google Chrome\";v=\"91\", \"Chromium\";v=\"91\"',\n",
       " 'sec-ch-ua-mobile': '?0',\n",
       " 'Sec-Fetch-Dest': 'empty',\n",
       " 'Sec-Fetch-Mode': 'cors',\n",
       " 'Sec-Fetch-Site': 'same-origin',\n",
       " 'User-Agent': 'Mozilla/5.0 (Windows NT 10.0; Win64; x64) AppleWebKit/537.36 (KHTML, like Gecko) Chrome/91.0.4472.77 Safari/537.36',\n",
       " 'x-dtpc': '6$302815630_755h16vDMCWUHDHCCKKBOIEHUWFTWJAFMMKFORF-0e23',\n",
       " 'X-Requested-With': 'XMLHttpRequest'}"
      ]
     },
     "execution_count": 68,
     "metadata": {},
     "output_type": "execute_result"
    }
   ],
   "source": [
    "headers"
   ]
  },
  {
   "cell_type": "code",
   "execution_count": 69,
   "metadata": {},
   "outputs": [],
   "source": [
    "response = requests.post(URL, data = data, headers = headers)"
   ]
  },
  {
   "cell_type": "code",
   "execution_count": 59,
   "metadata": {},
   "outputs": [
    {
     "data": {
      "text/plain": [
       "<Response [200]>"
      ]
     },
     "execution_count": 59,
     "metadata": {},
     "output_type": "execute_result"
    }
   ],
   "source": [
    "response"
   ]
  },
  {
   "cell_type": "code",
   "execution_count": 60,
   "metadata": {},
   "outputs": [
    {
     "data": {
      "text/plain": [
       "4000"
      ]
     },
     "execution_count": 60,
     "metadata": {},
     "output_type": "execute_result"
    }
   ],
   "source": [
    "len(response.json()['data'])"
   ]
  },
  {
   "cell_type": "code",
   "execution_count": 70,
   "metadata": {},
   "outputs": [],
   "source": [
    "with open('warehouse_tn2.json', 'w') as fi:\n",
    "    json.dump(response.json(), fi)"
   ]
  },
  {
   "cell_type": "code",
   "execution_count": null,
   "metadata": {},
   "outputs": [],
   "source": []
  },
  {
   "cell_type": "code",
   "execution_count": null,
   "metadata": {},
   "outputs": [],
   "source": []
  }
 ],
 "metadata": {
  "kernelspec": {
   "display_name": "Python 3",
   "language": "python",
   "name": "python3"
  },
  "language_info": {
   "codemirror_mode": {
    "name": "ipython",
    "version": 3
   },
   "file_extension": ".py",
   "mimetype": "text/x-python",
   "name": "python",
   "nbconvert_exporter": "python",
   "pygments_lexer": "ipython3",
   "version": "3.8.3"
  }
 },
 "nbformat": 4,
 "nbformat_minor": 5
}
