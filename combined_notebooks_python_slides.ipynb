{
 "cells": [
  {
   "cell_type": "code",
   "execution_count": 56,
   "metadata": {},
   "outputs": [],
   "source": [
    "import requests\n",
    "import json\n",
    "from bs4 import BeautifulSoup\n",
    "import pandas as pd\n",
    "import numpy as np\n",
    "import re\n",
    "import csv\n",
    "import seaborn as sns\n",
    "import matplotlib.pyplot as plt\n",
    "import plotly.express as px\n",
    "import plotly.graph_objects as go\n",
    "%matplotlib inline\n",
    "\n",
    "pd.set_option('display.max_columns', 500)\n",
    "pd.set_option('display.max_rows', 500)"
   ]
  },
  {
   "cell_type": "markdown",
   "metadata": {},
   "source": [
    "## Introduce Bureau Labor Statistics reports and background on subject"
   ]
  },
  {
   "cell_type": "code",
   "execution_count": 52,
   "metadata": {},
   "outputs": [
    {
     "data": {
      "text/html": [
       "<div>\n",
       "<style scoped>\n",
       "    .dataframe tbody tr th:only-of-type {\n",
       "        vertical-align: middle;\n",
       "    }\n",
       "\n",
       "    .dataframe tbody tr th {\n",
       "        vertical-align: top;\n",
       "    }\n",
       "\n",
       "    .dataframe thead th {\n",
       "        text-align: right;\n",
       "    }\n",
       "</style>\n",
       "<table border=\"1\" class=\"dataframe\">\n",
       "  <thead>\n",
       "    <tr style=\"text-align: right;\">\n",
       "      <th></th>\n",
       "      <th>Unnamed: 0</th>\n",
       "      <th>year</th>\n",
       "      <th>month</th>\n",
       "      <th>value</th>\n",
       "      <th>report</th>\n",
       "    </tr>\n",
       "  </thead>\n",
       "  <tbody>\n",
       "    <tr>\n",
       "      <th>0</th>\n",
       "      <td>0</td>\n",
       "      <td>2021</td>\n",
       "      <td>April</td>\n",
       "      <td>267.054</td>\n",
       "      <td>CPI</td>\n",
       "    </tr>\n",
       "    <tr>\n",
       "      <th>1</th>\n",
       "      <td>1</td>\n",
       "      <td>2021</td>\n",
       "      <td>March</td>\n",
       "      <td>264.877</td>\n",
       "      <td>CPI</td>\n",
       "    </tr>\n",
       "    <tr>\n",
       "      <th>2</th>\n",
       "      <td>2</td>\n",
       "      <td>2021</td>\n",
       "      <td>February</td>\n",
       "      <td>263.014</td>\n",
       "      <td>CPI</td>\n",
       "    </tr>\n",
       "    <tr>\n",
       "      <th>3</th>\n",
       "      <td>3</td>\n",
       "      <td>2021</td>\n",
       "      <td>January</td>\n",
       "      <td>261.582</td>\n",
       "      <td>CPI</td>\n",
       "    </tr>\n",
       "    <tr>\n",
       "      <th>4</th>\n",
       "      <td>4</td>\n",
       "      <td>2020</td>\n",
       "      <td>December</td>\n",
       "      <td>260.474</td>\n",
       "      <td>CPI</td>\n",
       "    </tr>\n",
       "    <tr>\n",
       "      <th>...</th>\n",
       "      <td>...</td>\n",
       "      <td>...</td>\n",
       "      <td>...</td>\n",
       "      <td>...</td>\n",
       "      <td>...</td>\n",
       "    </tr>\n",
       "    <tr>\n",
       "      <th>1153</th>\n",
       "      <td>1153</td>\n",
       "      <td>2002</td>\n",
       "      <td>May</td>\n",
       "      <td>433.000</td>\n",
       "      <td>Manufacturing Separations</td>\n",
       "    </tr>\n",
       "    <tr>\n",
       "      <th>1154</th>\n",
       "      <td>1154</td>\n",
       "      <td>2002</td>\n",
       "      <td>April</td>\n",
       "      <td>491.000</td>\n",
       "      <td>Manufacturing Separations</td>\n",
       "    </tr>\n",
       "    <tr>\n",
       "      <th>1155</th>\n",
       "      <td>1155</td>\n",
       "      <td>2002</td>\n",
       "      <td>March</td>\n",
       "      <td>397.000</td>\n",
       "      <td>Manufacturing Separations</td>\n",
       "    </tr>\n",
       "    <tr>\n",
       "      <th>1156</th>\n",
       "      <td>1156</td>\n",
       "      <td>2002</td>\n",
       "      <td>February</td>\n",
       "      <td>415.000</td>\n",
       "      <td>Manufacturing Separations</td>\n",
       "    </tr>\n",
       "    <tr>\n",
       "      <th>1157</th>\n",
       "      <td>1157</td>\n",
       "      <td>2002</td>\n",
       "      <td>January</td>\n",
       "      <td>574.000</td>\n",
       "      <td>Manufacturing Separations</td>\n",
       "    </tr>\n",
       "  </tbody>\n",
       "</table>\n",
       "<p>1158 rows × 5 columns</p>\n",
       "</div>"
      ],
      "text/plain": [
       "      Unnamed: 0  year     month    value                     report\n",
       "0              0  2021     April  267.054                        CPI\n",
       "1              1  2021     March  264.877                        CPI\n",
       "2              2  2021  February  263.014                        CPI\n",
       "3              3  2021   January  261.582                        CPI\n",
       "4              4  2020  December  260.474                        CPI\n",
       "...          ...   ...       ...      ...                        ...\n",
       "1153        1153  2002       May  433.000  Manufacturing Separations\n",
       "1154        1154  2002     April  491.000  Manufacturing Separations\n",
       "1155        1155  2002     March  397.000  Manufacturing Separations\n",
       "1156        1156  2002  February  415.000  Manufacturing Separations\n",
       "1157        1157  2002   January  574.000  Manufacturing Separations\n",
       "\n",
       "[1158 rows x 5 columns]"
      ]
     },
     "execution_count": 52,
     "metadata": {},
     "output_type": "execute_result"
    }
   ],
   "source": [
    "bls_data = pd.read_csv('data/BLS_data.csv')\n",
    "bls_data"
   ]
  },
  {
   "cell_type": "code",
   "execution_count": 54,
   "metadata": {},
   "outputs": [],
   "source": [
    "bls_data=bls_data.drop(columns = ['Unnamed: 0'])"
   ]
  },
  {
   "cell_type": "code",
   "execution_count": 57,
   "metadata": {},
   "outputs": [
    {
     "data": {
      "image/png": "[encoded data removed]",
      "text/plain": [
       "<Figure size 1008x432 with 1 Axes>"
      ]
     },
     "metadata": {
      "needs_background": "light"
     },
     "output_type": "display_data"
    }
   ],
   "source": [
    "manu_employed = bls_data[bls_data['report']=='Manufacturing Employed']\n",
    "#manu_openings = BLS_final[BLS_final['report']=='Manufacturing Job Openings']\n",
    "#manu_hires = BLS_final[BLS_final['report']=='Manufacturing Hires']\n",
    "#manu_seps = BLS_final[BLS_final['report']=='Manufacturing Separations']\n",
    "\n",
    "fig = plt.subplots(figsize = (14, 6))\n",
    "sns.lineplot(manu_employed['year'],manu_employed['value'],label=\"Manufacturing Employed\")\n",
    "#sns.lineplot(manu_openings['year'],manu_openings['value'],label=\"Manufacturing Job Openings\")\n",
    "#sns.lineplot(manu_hires['year'],manu_hires['value'],label=\"Manufacturing New Hires\")\n",
    "#sns.lineplot(manu_seps['year'],manu_seps['value'], label = \"Manufacturing Separations\")\n",
    "\n",
    "plt.xlabel('Year')\n",
    "plt.ylabel('Volume')\n",
    "plt.title('Number of Persons Employed in U.S. Manufacturing Jobs, 2002 - 2021 (preliminary)')\n",
    "plt.legend();\n",
    "\n",
    "#html_manu_employed = mpld3.fig_to_html(fig)\n",
    "#mpld3.save_html(fig,'../Capstone_US_Blue_Collar_workers/data/BLS_trends.html')"
   ]
  },
  {
   "cell_type": "code",
   "execution_count": 58,
   "metadata": {},
   "outputs": [
    {
     "data": {
      "image/png": "[encoded data removed]",
      "text/plain": [
       "<Figure size 1008x432 with 1 Axes>"
      ]
     },
     "metadata": {
      "needs_background": "light"
     },
     "output_type": "display_data"
    }
   ],
   "source": [
    "manu_openings = bls_data[bls_data['report']=='Manufacturing Job Openings']\n",
    "manu_hires = bls_data[bls_data['report']=='Manufacturing Hires']\n",
    "\n",
    "fig = plt.subplots(figsize = (14, 6))\n",
    "sns.lineplot(manu_openings['year'],manu_openings['value'],label=\"Manufacturing Job Openings\")\n",
    "sns.lineplot(manu_hires['year'], manu_hires['value'], label = \"Manufacturing Hires\")\n",
    "\n",
    "plt.xlabel('Year')\n",
    "plt.ylabel('Volume')\n",
    "plt.title('U.S. Manufacturing Employment Trends, 2002 - 2021 (preliminary)')\n",
    "plt.legend();"
   ]
  },
  {
   "cell_type": "code",
   "execution_count": null,
   "metadata": {},
   "outputs": [],
   "source": []
  },
  {
   "cell_type": "code",
   "execution_count": null,
   "metadata": {},
   "outputs": [],
   "source": []
  },
  {
   "cell_type": "markdown",
   "metadata": {},
   "source": [
    "## Bring in previously-pulled reports for Material Handlers, Assemblers, Warehouse job listings for TN and TX"
   ]
  },
  {
   "cell_type": "code",
   "execution_count": 48,
   "metadata": {},
   "outputs": [],
   "source": [
    "bluecollar_csv = bluecollar.to_csv('data/full_bc_jobs.csv')"
   ]
  },
  {
   "cell_type": "code",
   "execution_count": 49,
   "metadata": {},
   "outputs": [
    {
     "data": {
      "text/plain": [
       "(15313, 11)"
      ]
     },
     "execution_count": 49,
     "metadata": {},
     "output_type": "execute_result"
    }
   ],
   "source": [
    "#read in full bluecollar concatenated jobs dataframe\n",
    "full_bluecollar = pd.read_csv('data/full_bc_jobs.csv')\n",
    "full_bluecollar.shape"
   ]
  },
  {
   "cell_type": "markdown",
   "metadata": {},
   "source": [
    "Now, identify keywords that could imply criticality of finding talent, search the job snippet and job description fields, and count the number of times the keywords appear"
   ]
  },
  {
   "cell_type": "markdown",
   "metadata": {},
   "source": [
    "Run the keywords against \"full job description\".  Note that the keywords were also run against the \"job snippet\" column\n",
    "but the total counts were less than the full job description counts, so the snippet column was removed."
   ]
  },
  {
   "cell_type": "code",
   "execution_count": 50,
   "metadata": {},
   "outputs": [
    {
     "name": "stderr",
     "output_type": "stream",
     "text": [
      "[nltk_data] Downloading package punkt to\n",
      "[nltk_data]     C:\\Users\\daily\\AppData\\Roaming\\nltk_data...\n",
      "[nltk_data]   Package punkt is already up-to-date!\n",
      "[nltk_data] Downloading package stopwords to\n",
      "[nltk_data]     C:\\Users\\daily\\AppData\\Roaming\\nltk_data...\n",
      "[nltk_data]   Package stopwords is already up-to-date!\n"
     ]
    }
   ],
   "source": [
    "import string\n",
    "import nltk\n",
    "nltk.download('punkt')\n",
    "nltk.download('stopwords')\n",
    "from nltk.corpus import stopwords\n",
    "from nltk.tokenize import RegexpTokenizer\n",
    "from nltk.stem.wordnet import WordNetLemmatizer"
   ]
  },
  {
   "cell_type": "markdown",
   "metadata": {},
   "source": [
    "And then run the words against the \"full_description\""
   ]
  },
  {
   "cell_type": "code",
   "execution_count": 51,
   "metadata": {},
   "outputs": [],
   "source": [
    "#'no' is in the English stop words, so in order to include 'no experience necessary' remove \"no\" from stopwords'\n",
    "\n",
    "def preprocess_text(full_description):\n",
    "    full_description = full_description.lower() \n",
    "    translator = str.maketrans('', '', string.punctuation)\n",
    "    full_description = full_description.translate(translator)\n",
    "    stop_words = set(stopwords.words('english'))\n",
    "    not_stopwords = {'no'}\n",
    "    final_stopwords = set([word for word in stop_words if word not in not_stopwords])\n",
    "    filtered_words = [w for w in full_description.split() if w not in final_stopwords] \n",
    "    return ' '.join(filtered_words) \n"
   ]
  },
  {
   "cell_type": "code",
   "execution_count": 59,
   "metadata": {},
   "outputs": [],
   "source": [
    "KEYWORDS = ['bonus', 'bonuses','pay increase', 'pay increases', 'immediately', 'incentive', 'incentives','no experience necessary']\n",
    "\n",
    "def count_keywords(full_description):\n",
    "    counts = {}\n",
    "    prep = preprocess_text(full_description)\n",
    "    for kw in KEYWORDS:\n",
    "        counts[kw] = prep.count(kw)\n",
    "    return counts\n",
    "\n"
   ]
  },
  {
   "cell_type": "code",
   "execution_count": 60,
   "metadata": {},
   "outputs": [],
   "source": [
    "bluecollar['occur_full_desc'] = bluecollar['full_description'].apply(count_keywords)"
   ]
  },
  {
   "cell_type": "code",
   "execution_count": 61,
   "metadata": {},
   "outputs": [
    {
     "data": {
      "text/plain": [
       "(15313, 11)"
      ]
     },
     "execution_count": 61,
     "metadata": {},
     "output_type": "execute_result"
    }
   ],
   "source": [
    "bluecollar.shape"
   ]
  },
  {
   "cell_type": "code",
   "execution_count": 62,
   "metadata": {},
   "outputs": [],
   "source": [
    "full_desc_incent = bluecollar.occur_full_desc.tolist()"
   ]
  },
  {
   "cell_type": "code",
   "execution_count": 63,
   "metadata": {},
   "outputs": [
    {
     "data": {
      "text/html": [
       "<div>\n",
       "<style scoped>\n",
       "    .dataframe tbody tr th:only-of-type {\n",
       "        vertical-align: middle;\n",
       "    }\n",
       "\n",
       "    .dataframe tbody tr th {\n",
       "        vertical-align: top;\n",
       "    }\n",
       "\n",
       "    .dataframe thead th {\n",
       "        text-align: right;\n",
       "    }\n",
       "</style>\n",
       "<table border=\"1\" class=\"dataframe\">\n",
       "  <thead>\n",
       "    <tr style=\"text-align: right;\">\n",
       "      <th></th>\n",
       "      <th>bonus</th>\n",
       "      <th>bonuses</th>\n",
       "      <th>pay increase</th>\n",
       "      <th>pay increases</th>\n",
       "      <th>immediately</th>\n",
       "      <th>incentive</th>\n",
       "      <th>incentives</th>\n",
       "      <th>no experience necessary</th>\n",
       "    </tr>\n",
       "  </thead>\n",
       "  <tbody>\n",
       "    <tr>\n",
       "      <th>0</th>\n",
       "      <td>0</td>\n",
       "      <td>0</td>\n",
       "      <td>0</td>\n",
       "      <td>0</td>\n",
       "      <td>2</td>\n",
       "      <td>0</td>\n",
       "      <td>0</td>\n",
       "      <td>0</td>\n",
       "    </tr>\n",
       "    <tr>\n",
       "      <th>1</th>\n",
       "      <td>0</td>\n",
       "      <td>0</td>\n",
       "      <td>0</td>\n",
       "      <td>0</td>\n",
       "      <td>2</td>\n",
       "      <td>0</td>\n",
       "      <td>0</td>\n",
       "      <td>0</td>\n",
       "    </tr>\n",
       "    <tr>\n",
       "      <th>2</th>\n",
       "      <td>1</td>\n",
       "      <td>1</td>\n",
       "      <td>0</td>\n",
       "      <td>0</td>\n",
       "      <td>0</td>\n",
       "      <td>0</td>\n",
       "      <td>0</td>\n",
       "      <td>2</td>\n",
       "    </tr>\n",
       "    <tr>\n",
       "      <th>3</th>\n",
       "      <td>0</td>\n",
       "      <td>0</td>\n",
       "      <td>0</td>\n",
       "      <td>0</td>\n",
       "      <td>0</td>\n",
       "      <td>0</td>\n",
       "      <td>0</td>\n",
       "      <td>0</td>\n",
       "    </tr>\n",
       "    <tr>\n",
       "      <th>4</th>\n",
       "      <td>0</td>\n",
       "      <td>0</td>\n",
       "      <td>0</td>\n",
       "      <td>0</td>\n",
       "      <td>0</td>\n",
       "      <td>0</td>\n",
       "      <td>0</td>\n",
       "      <td>0</td>\n",
       "    </tr>\n",
       "    <tr>\n",
       "      <th>...</th>\n",
       "      <td>...</td>\n",
       "      <td>...</td>\n",
       "      <td>...</td>\n",
       "      <td>...</td>\n",
       "      <td>...</td>\n",
       "      <td>...</td>\n",
       "      <td>...</td>\n",
       "      <td>...</td>\n",
       "    </tr>\n",
       "    <tr>\n",
       "      <th>15308</th>\n",
       "      <td>1</td>\n",
       "      <td>0</td>\n",
       "      <td>0</td>\n",
       "      <td>0</td>\n",
       "      <td>0</td>\n",
       "      <td>0</td>\n",
       "      <td>0</td>\n",
       "      <td>0</td>\n",
       "    </tr>\n",
       "    <tr>\n",
       "      <th>15309</th>\n",
       "      <td>1</td>\n",
       "      <td>0</td>\n",
       "      <td>0</td>\n",
       "      <td>0</td>\n",
       "      <td>0</td>\n",
       "      <td>0</td>\n",
       "      <td>0</td>\n",
       "      <td>0</td>\n",
       "    </tr>\n",
       "    <tr>\n",
       "      <th>15310</th>\n",
       "      <td>1</td>\n",
       "      <td>0</td>\n",
       "      <td>0</td>\n",
       "      <td>0</td>\n",
       "      <td>0</td>\n",
       "      <td>0</td>\n",
       "      <td>0</td>\n",
       "      <td>0</td>\n",
       "    </tr>\n",
       "    <tr>\n",
       "      <th>15311</th>\n",
       "      <td>1</td>\n",
       "      <td>0</td>\n",
       "      <td>0</td>\n",
       "      <td>0</td>\n",
       "      <td>0</td>\n",
       "      <td>0</td>\n",
       "      <td>0</td>\n",
       "      <td>0</td>\n",
       "    </tr>\n",
       "    <tr>\n",
       "      <th>15312</th>\n",
       "      <td>1</td>\n",
       "      <td>0</td>\n",
       "      <td>0</td>\n",
       "      <td>0</td>\n",
       "      <td>0</td>\n",
       "      <td>0</td>\n",
       "      <td>0</td>\n",
       "      <td>0</td>\n",
       "    </tr>\n",
       "  </tbody>\n",
       "</table>\n",
       "<p>15313 rows × 8 columns</p>\n",
       "</div>"
      ],
      "text/plain": [
       "       bonus  bonuses  pay increase  pay increases  immediately  incentive  \\\n",
       "0          0        0             0              0            2          0   \n",
       "1          0        0             0              0            2          0   \n",
       "2          1        1             0              0            0          0   \n",
       "3          0        0             0              0            0          0   \n",
       "4          0        0             0              0            0          0   \n",
       "...      ...      ...           ...            ...          ...        ...   \n",
       "15308      1        0             0              0            0          0   \n",
       "15309      1        0             0              0            0          0   \n",
       "15310      1        0             0              0            0          0   \n",
       "15311      1        0             0              0            0          0   \n",
       "15312      1        0             0              0            0          0   \n",
       "\n",
       "       incentives  no experience necessary  \n",
       "0               0                        0  \n",
       "1               0                        0  \n",
       "2               0                        2  \n",
       "3               0                        0  \n",
       "4               0                        0  \n",
       "...           ...                      ...  \n",
       "15308           0                        0  \n",
       "15309           0                        0  \n",
       "15310           0                        0  \n",
       "15311           0                        0  \n",
       "15312           0                        0  \n",
       "\n",
       "[15313 rows x 8 columns]"
      ]
     },
     "execution_count": 63,
     "metadata": {},
     "output_type": "execute_result"
    }
   ],
   "source": [
    "pd.DataFrame(full_desc_incent)"
   ]
  },
  {
   "cell_type": "code",
   "execution_count": 64,
   "metadata": {},
   "outputs": [],
   "source": [
    "bluecollar = bluecollar.reset_index()"
   ]
  },
  {
   "cell_type": "code",
   "execution_count": 66,
   "metadata": {},
   "outputs": [],
   "source": [
    "bluecollar3 = pd.concat([bluecollar, pd.DataFrame(full_desc_incent).reset_index()], axis=1)"
   ]
  },
  {
   "cell_type": "code",
   "execution_count": 67,
   "metadata": {},
   "outputs": [
    {
     "data": {
      "text/plain": [
       "(15313, 21)"
      ]
     },
     "execution_count": 67,
     "metadata": {},
     "output_type": "execute_result"
    }
   ],
   "source": [
    "bluecollar3.shape"
   ]
  },
  {
   "cell_type": "code",
   "execution_count": 68,
   "metadata": {},
   "outputs": [
    {
     "data": {
      "text/html": [
       "<div>\n",
       "<style scoped>\n",
       "    .dataframe tbody tr th:only-of-type {\n",
       "        vertical-align: middle;\n",
       "    }\n",
       "\n",
       "    .dataframe tbody tr th {\n",
       "        vertical-align: top;\n",
       "    }\n",
       "\n",
       "    .dataframe thead th {\n",
       "        text-align: right;\n",
       "    }\n",
       "</style>\n",
       "<table border=\"1\" class=\"dataframe\">\n",
       "  <thead>\n",
       "    <tr style=\"text-align: right;\">\n",
       "      <th></th>\n",
       "      <th>index</th>\n",
       "      <th>category</th>\n",
       "      <th>state</th>\n",
       "      <th>title</th>\n",
       "      <th>employer</th>\n",
       "      <th>city</th>\n",
       "      <th>snippet</th>\n",
       "      <th>full_description</th>\n",
       "      <th>education</th>\n",
       "      <th>min_pay</th>\n",
       "      <th>max_pay</th>\n",
       "      <th>occur_full_desc</th>\n",
       "      <th>index</th>\n",
       "      <th>bonus</th>\n",
       "      <th>bonuses</th>\n",
       "      <th>pay increase</th>\n",
       "      <th>pay increases</th>\n",
       "      <th>immediately</th>\n",
       "      <th>incentive</th>\n",
       "      <th>incentives</th>\n",
       "      <th>no experience necessary</th>\n",
       "    </tr>\n",
       "  </thead>\n",
       "  <tbody>\n",
       "    <tr>\n",
       "      <th>0</th>\n",
       "      <td>0</td>\n",
       "      <td>Assembler</td>\n",
       "      <td>TN</td>\n",
       "      <td>Assembler</td>\n",
       "      <td>Accurate Personnel, LLC</td>\n",
       "      <td>Knoxville</td>\n",
       "      <td>... ASSEMBLER - EARN $14/HOUR We are hiring i...</td>\n",
       "      <td>Job Description Hello First Name, We are excit...</td>\n",
       "      <td>No Minimum Education Requirement</td>\n",
       "      <td>None</td>\n",
       "      <td>None</td>\n",
       "      <td>{'bonus': 0, 'bonuses': 0, 'pay increase': 0, ...</td>\n",
       "      <td>0</td>\n",
       "      <td>0</td>\n",
       "      <td>0</td>\n",
       "      <td>0</td>\n",
       "      <td>0</td>\n",
       "      <td>2</td>\n",
       "      <td>0</td>\n",
       "      <td>0</td>\n",
       "      <td>0</td>\n",
       "    </tr>\n",
       "    <tr>\n",
       "      <th>1</th>\n",
       "      <td>1</td>\n",
       "      <td>Assembler</td>\n",
       "      <td>TN</td>\n",
       "      <td>Assembler</td>\n",
       "      <td>Accurate Personnel, LLC</td>\n",
       "      <td>Knoxville</td>\n",
       "      <td>... ASSEMBLER - EARN $14/HOUR We are hiring i...</td>\n",
       "      <td>Job Description HIRING IMMEDIATELY: ASSEMBLER ...</td>\n",
       "      <td>No Minimum Education Requirement</td>\n",
       "      <td>None</td>\n",
       "      <td>None</td>\n",
       "      <td>{'bonus': 0, 'bonuses': 0, 'pay increase': 0, ...</td>\n",
       "      <td>1</td>\n",
       "      <td>0</td>\n",
       "      <td>0</td>\n",
       "      <td>0</td>\n",
       "      <td>0</td>\n",
       "      <td>2</td>\n",
       "      <td>0</td>\n",
       "      <td>0</td>\n",
       "      <td>0</td>\n",
       "    </tr>\n",
       "  </tbody>\n",
       "</table>\n",
       "</div>"
      ],
      "text/plain": [
       "   index   category state      title                 employer       city  \\\n",
       "0      0  Assembler    TN  Assembler  Accurate Personnel, LLC  Knoxville   \n",
       "1      1  Assembler    TN  Assembler  Accurate Personnel, LLC  Knoxville   \n",
       "\n",
       "                                             snippet  \\\n",
       "0   ... ASSEMBLER - EARN $14/HOUR We are hiring i...   \n",
       "1   ... ASSEMBLER - EARN $14/HOUR We are hiring i...   \n",
       "\n",
       "                                    full_description  \\\n",
       "0  Job Description Hello First Name, We are excit...   \n",
       "1  Job Description HIRING IMMEDIATELY: ASSEMBLER ...   \n",
       "\n",
       "                          education min_pay max_pay  \\\n",
       "0  No Minimum Education Requirement    None    None   \n",
       "1  No Minimum Education Requirement    None    None   \n",
       "\n",
       "                                     occur_full_desc  index  bonus  bonuses  \\\n",
       "0  {'bonus': 0, 'bonuses': 0, 'pay increase': 0, ...      0      0        0   \n",
       "1  {'bonus': 0, 'bonuses': 0, 'pay increase': 0, ...      1      0        0   \n",
       "\n",
       "   pay increase  pay increases  immediately  incentive  incentives  \\\n",
       "0             0              0            2          0           0   \n",
       "1             0              0            2          0           0   \n",
       "\n",
       "   no experience necessary  \n",
       "0                        0  \n",
       "1                        0  "
      ]
     },
     "execution_count": 68,
     "metadata": {},
     "output_type": "execute_result"
    }
   ],
   "source": [
    "bluecollar3.head(2)"
   ]
  },
  {
   "cell_type": "code",
   "execution_count": 69,
   "metadata": {},
   "outputs": [
    {
     "data": {
      "text/html": [
       "<div>\n",
       "<style scoped>\n",
       "    .dataframe tbody tr th:only-of-type {\n",
       "        vertical-align: middle;\n",
       "    }\n",
       "\n",
       "    .dataframe tbody tr th {\n",
       "        vertical-align: top;\n",
       "    }\n",
       "\n",
       "    .dataframe thead th {\n",
       "        text-align: right;\n",
       "    }\n",
       "</style>\n",
       "<table border=\"1\" class=\"dataframe\">\n",
       "  <thead>\n",
       "    <tr style=\"text-align: right;\">\n",
       "      <th></th>\n",
       "      <th>index</th>\n",
       "      <th>index</th>\n",
       "      <th>bonus</th>\n",
       "      <th>bonuses</th>\n",
       "      <th>pay increase</th>\n",
       "      <th>pay increases</th>\n",
       "      <th>immediately</th>\n",
       "      <th>incentive</th>\n",
       "      <th>incentives</th>\n",
       "      <th>no experience necessary</th>\n",
       "    </tr>\n",
       "  </thead>\n",
       "  <tbody>\n",
       "    <tr>\n",
       "      <th>count</th>\n",
       "      <td>15313.00000</td>\n",
       "      <td>15313.000000</td>\n",
       "      <td>15313.000000</td>\n",
       "      <td>15313.000000</td>\n",
       "      <td>15313.000000</td>\n",
       "      <td>15313.000000</td>\n",
       "      <td>15313.000000</td>\n",
       "      <td>15313.000000</td>\n",
       "      <td>15313.000000</td>\n",
       "      <td>15313.000000</td>\n",
       "    </tr>\n",
       "    <tr>\n",
       "      <th>mean</th>\n",
       "      <td>9339.21374</td>\n",
       "      <td>7656.000000</td>\n",
       "      <td>0.172664</td>\n",
       "      <td>0.048978</td>\n",
       "      <td>0.009534</td>\n",
       "      <td>0.004245</td>\n",
       "      <td>0.065173</td>\n",
       "      <td>0.043231</td>\n",
       "      <td>0.020179</td>\n",
       "      <td>0.006008</td>\n",
       "    </tr>\n",
       "    <tr>\n",
       "      <th>std</th>\n",
       "      <td>5230.59899</td>\n",
       "      <td>4420.626671</td>\n",
       "      <td>0.608815</td>\n",
       "      <td>0.256736</td>\n",
       "      <td>0.106786</td>\n",
       "      <td>0.071703</td>\n",
       "      <td>0.277245</td>\n",
       "      <td>0.218254</td>\n",
       "      <td>0.140617</td>\n",
       "      <td>0.086831</td>\n",
       "    </tr>\n",
       "    <tr>\n",
       "      <th>min</th>\n",
       "      <td>0.00000</td>\n",
       "      <td>0.000000</td>\n",
       "      <td>0.000000</td>\n",
       "      <td>0.000000</td>\n",
       "      <td>0.000000</td>\n",
       "      <td>0.000000</td>\n",
       "      <td>0.000000</td>\n",
       "      <td>0.000000</td>\n",
       "      <td>0.000000</td>\n",
       "      <td>0.000000</td>\n",
       "    </tr>\n",
       "    <tr>\n",
       "      <th>25%</th>\n",
       "      <td>4964.00000</td>\n",
       "      <td>3828.000000</td>\n",
       "      <td>0.000000</td>\n",
       "      <td>0.000000</td>\n",
       "      <td>0.000000</td>\n",
       "      <td>0.000000</td>\n",
       "      <td>0.000000</td>\n",
       "      <td>0.000000</td>\n",
       "      <td>0.000000</td>\n",
       "      <td>0.000000</td>\n",
       "    </tr>\n",
       "    <tr>\n",
       "      <th>50%</th>\n",
       "      <td>9277.00000</td>\n",
       "      <td>7656.000000</td>\n",
       "      <td>0.000000</td>\n",
       "      <td>0.000000</td>\n",
       "      <td>0.000000</td>\n",
       "      <td>0.000000</td>\n",
       "      <td>0.000000</td>\n",
       "      <td>0.000000</td>\n",
       "      <td>0.000000</td>\n",
       "      <td>0.000000</td>\n",
       "    </tr>\n",
       "    <tr>\n",
       "      <th>75%</th>\n",
       "      <td>13989.00000</td>\n",
       "      <td>11484.000000</td>\n",
       "      <td>0.000000</td>\n",
       "      <td>0.000000</td>\n",
       "      <td>0.000000</td>\n",
       "      <td>0.000000</td>\n",
       "      <td>0.000000</td>\n",
       "      <td>0.000000</td>\n",
       "      <td>0.000000</td>\n",
       "      <td>0.000000</td>\n",
       "    </tr>\n",
       "    <tr>\n",
       "      <th>max</th>\n",
       "      <td>18236.00000</td>\n",
       "      <td>15312.000000</td>\n",
       "      <td>12.000000</td>\n",
       "      <td>12.000000</td>\n",
       "      <td>3.000000</td>\n",
       "      <td>3.000000</td>\n",
       "      <td>5.000000</td>\n",
       "      <td>4.000000</td>\n",
       "      <td>1.000000</td>\n",
       "      <td>2.000000</td>\n",
       "    </tr>\n",
       "  </tbody>\n",
       "</table>\n",
       "</div>"
      ],
      "text/plain": [
       "             index         index         bonus       bonuses  pay increase  \\\n",
       "count  15313.00000  15313.000000  15313.000000  15313.000000  15313.000000   \n",
       "mean    9339.21374   7656.000000      0.172664      0.048978      0.009534   \n",
       "std     5230.59899   4420.626671      0.608815      0.256736      0.106786   \n",
       "min        0.00000      0.000000      0.000000      0.000000      0.000000   \n",
       "25%     4964.00000   3828.000000      0.000000      0.000000      0.000000   \n",
       "50%     9277.00000   7656.000000      0.000000      0.000000      0.000000   \n",
       "75%    13989.00000  11484.000000      0.000000      0.000000      0.000000   \n",
       "max    18236.00000  15312.000000     12.000000     12.000000      3.000000   \n",
       "\n",
       "       pay increases   immediately     incentive    incentives  \\\n",
       "count   15313.000000  15313.000000  15313.000000  15313.000000   \n",
       "mean        0.004245      0.065173      0.043231      0.020179   \n",
       "std         0.071703      0.277245      0.218254      0.140617   \n",
       "min         0.000000      0.000000      0.000000      0.000000   \n",
       "25%         0.000000      0.000000      0.000000      0.000000   \n",
       "50%         0.000000      0.000000      0.000000      0.000000   \n",
       "75%         0.000000      0.000000      0.000000      0.000000   \n",
       "max         3.000000      5.000000      4.000000      1.000000   \n",
       "\n",
       "       no experience necessary  \n",
       "count             15313.000000  \n",
       "mean                  0.006008  \n",
       "std                   0.086831  \n",
       "min                   0.000000  \n",
       "25%                   0.000000  \n",
       "50%                   0.000000  \n",
       "75%                   0.000000  \n",
       "max                   2.000000  "
      ]
     },
     "execution_count": 69,
     "metadata": {},
     "output_type": "execute_result"
    }
   ],
   "source": [
    "bluecollar3.describe()"
   ]
  },
  {
   "cell_type": "code",
   "execution_count": 70,
   "metadata": {},
   "outputs": [],
   "source": [
    "bluecollar3['bonus_ttl'] = bluecollar3['bonus'] + bluecollar3['bonuses']\n",
    "#bluecollar3"
   ]
  },
  {
   "cell_type": "code",
   "execution_count": 71,
   "metadata": {},
   "outputs": [],
   "source": [
    "bluecollar3['incentive_ttl'] = bluecollar3['incentive'] + bluecollar3['incentives']\n",
    "#bluecollar3"
   ]
  },
  {
   "cell_type": "code",
   "execution_count": 72,
   "metadata": {},
   "outputs": [],
   "source": [
    "bluecollar3['increase_ttl'] = bluecollar3['pay increase'] + bluecollar3['pay increases']\n",
    "#bluecollar3"
   ]
  },
  {
   "cell_type": "code",
   "execution_count": 73,
   "metadata": {},
   "outputs": [],
   "source": [
    "bluecollar3 = bluecollar3.drop(columns = ['occur_full_desc', 'bonus', 'bonuses', 'incentive', 'incentives', 'pay increase', 'pay increases'])"
   ]
  },
  {
   "cell_type": "code",
   "execution_count": 74,
   "metadata": {},
   "outputs": [],
   "source": [
    "bluecollar3 = bluecollar3.rename(columns = {'bonus_ttl': 'bonus', 'incentive_ttl':'incentive', 'increase_ttl':'pay increase'})"
   ]
  },
  {
   "cell_type": "code",
   "execution_count": 75,
   "metadata": {},
   "outputs": [
    {
     "data": {
      "text/html": [
       "<div>\n",
       "<style scoped>\n",
       "    .dataframe tbody tr th:only-of-type {\n",
       "        vertical-align: middle;\n",
       "    }\n",
       "\n",
       "    .dataframe tbody tr th {\n",
       "        vertical-align: top;\n",
       "    }\n",
       "\n",
       "    .dataframe thead th {\n",
       "        text-align: right;\n",
       "    }\n",
       "</style>\n",
       "<table border=\"1\" class=\"dataframe\">\n",
       "  <thead>\n",
       "    <tr style=\"text-align: right;\">\n",
       "      <th></th>\n",
       "      <th>index</th>\n",
       "      <th>category</th>\n",
       "      <th>state</th>\n",
       "      <th>title</th>\n",
       "      <th>employer</th>\n",
       "      <th>city</th>\n",
       "      <th>snippet</th>\n",
       "      <th>full_description</th>\n",
       "      <th>education</th>\n",
       "      <th>min_pay</th>\n",
       "      <th>max_pay</th>\n",
       "      <th>index</th>\n",
       "      <th>immediately</th>\n",
       "      <th>no experience necessary</th>\n",
       "      <th>bonus</th>\n",
       "      <th>incentive</th>\n",
       "      <th>pay increase</th>\n",
       "      <th>total keywords</th>\n",
       "    </tr>\n",
       "  </thead>\n",
       "  <tbody>\n",
       "    <tr>\n",
       "      <th>0</th>\n",
       "      <td>0</td>\n",
       "      <td>Assembler</td>\n",
       "      <td>TN</td>\n",
       "      <td>Assembler</td>\n",
       "      <td>Accurate Personnel, LLC</td>\n",
       "      <td>Knoxville</td>\n",
       "      <td>... ASSEMBLER - EARN $14/HOUR We are hiring i...</td>\n",
       "      <td>Job Description Hello First Name, We are excit...</td>\n",
       "      <td>No Minimum Education Requirement</td>\n",
       "      <td>None</td>\n",
       "      <td>None</td>\n",
       "      <td>0</td>\n",
       "      <td>2</td>\n",
       "      <td>0</td>\n",
       "      <td>0</td>\n",
       "      <td>0</td>\n",
       "      <td>0</td>\n",
       "      <td>2</td>\n",
       "    </tr>\n",
       "    <tr>\n",
       "      <th>1</th>\n",
       "      <td>1</td>\n",
       "      <td>Assembler</td>\n",
       "      <td>TN</td>\n",
       "      <td>Assembler</td>\n",
       "      <td>Accurate Personnel, LLC</td>\n",
       "      <td>Knoxville</td>\n",
       "      <td>... ASSEMBLER - EARN $14/HOUR We are hiring i...</td>\n",
       "      <td>Job Description HIRING IMMEDIATELY: ASSEMBLER ...</td>\n",
       "      <td>No Minimum Education Requirement</td>\n",
       "      <td>None</td>\n",
       "      <td>None</td>\n",
       "      <td>1</td>\n",
       "      <td>2</td>\n",
       "      <td>0</td>\n",
       "      <td>0</td>\n",
       "      <td>0</td>\n",
       "      <td>0</td>\n",
       "      <td>2</td>\n",
       "    </tr>\n",
       "  </tbody>\n",
       "</table>\n",
       "</div>"
      ],
      "text/plain": [
       "   index   category state      title                 employer       city  \\\n",
       "0      0  Assembler    TN  Assembler  Accurate Personnel, LLC  Knoxville   \n",
       "1      1  Assembler    TN  Assembler  Accurate Personnel, LLC  Knoxville   \n",
       "\n",
       "                                             snippet  \\\n",
       "0   ... ASSEMBLER - EARN $14/HOUR We are hiring i...   \n",
       "1   ... ASSEMBLER - EARN $14/HOUR We are hiring i...   \n",
       "\n",
       "                                    full_description  \\\n",
       "0  Job Description Hello First Name, We are excit...   \n",
       "1  Job Description HIRING IMMEDIATELY: ASSEMBLER ...   \n",
       "\n",
       "                          education min_pay max_pay  index  immediately  \\\n",
       "0  No Minimum Education Requirement    None    None      0            2   \n",
       "1  No Minimum Education Requirement    None    None      1            2   \n",
       "\n",
       "   no experience necessary  bonus  incentive  pay increase  total keywords  \n",
       "0                        0      0          0             0               2  \n",
       "1                        0      0          0             0               2  "
      ]
     },
     "execution_count": 75,
     "metadata": {},
     "output_type": "execute_result"
    }
   ],
   "source": [
    "bluecollar3['total keywords'] = bluecollar3['incentive'] + bluecollar3['pay increase'] + bluecollar3['no experience necessary'] + bluecollar3['immediately'] + bluecollar3['bonus']\n",
    "bluecollar3.head(2)"
   ]
  },
  {
   "cell_type": "code",
   "execution_count": 78,
   "metadata": {},
   "outputs": [
    {
     "name": "stdout",
     "output_type": "stream",
     "text": [
      "<class 'pandas.core.frame.DataFrame'>\n",
      "RangeIndex: 15313 entries, 0 to 15312\n",
      "Data columns (total 18 columns):\n",
      " #   Column                   Non-Null Count  Dtype \n",
      "---  ------                   --------------  ----- \n",
      " 0   index                    15313 non-null  int64 \n",
      " 1   category                 15313 non-null  object\n",
      " 2   state                    15313 non-null  object\n",
      " 3   title                    15313 non-null  object\n",
      " 4   employer                 15277 non-null  object\n",
      " 5   city                     15313 non-null  object\n",
      " 6   snippet                  15313 non-null  object\n",
      " 7   full_description         15313 non-null  object\n",
      " 8   education                15313 non-null  object\n",
      " 9   min_pay                  3639 non-null   object\n",
      " 10  max_pay                  3614 non-null   object\n",
      " 11  index                    15313 non-null  int64 \n",
      " 12  immediately              15313 non-null  int64 \n",
      " 13  no experience necessary  15313 non-null  int64 \n",
      " 14  bonus                    15313 non-null  int64 \n",
      " 15  incentive                15313 non-null  int64 \n",
      " 16  pay increase             15313 non-null  int64 \n",
      " 17  total keywords           15313 non-null  int64 \n",
      "dtypes: int64(8), object(10)\n",
      "memory usage: 2.1+ MB\n"
     ]
    }
   ],
   "source": [
    "bluecollar3.info()"
   ]
  },
  {
   "cell_type": "code",
   "execution_count": 79,
   "metadata": {},
   "outputs": [
    {
     "data": {
      "text/plain": [
       "5666"
      ]
     },
     "execution_count": 79,
     "metadata": {},
     "output_type": "execute_result"
    }
   ],
   "source": [
    "bluecollar3['total keywords'].sum()"
   ]
  },
  {
   "cell_type": "code",
   "execution_count": 80,
   "metadata": {},
   "outputs": [],
   "source": [
    "#create column and assigns a \"1\" if there is a number that is >= 1 in the total keywords column\n",
    "bluecollar3['occur'] = bluecollar3['total keywords'].apply(lambda x: \"1\" if x >= 1 else \"0\")"
   ]
  },
  {
   "cell_type": "code",
   "execution_count": 81,
   "metadata": {},
   "outputs": [
    {
     "data": {
      "text/plain": [
       "0    12418\n",
       "1     2895\n",
       "Name: occur, dtype: int64"
      ]
     },
     "execution_count": 81,
     "metadata": {},
     "output_type": "execute_result"
    }
   ],
   "source": [
    "bluecollar3['occur'].value_counts()"
   ]
  },
  {
   "cell_type": "markdown",
   "metadata": {},
   "source": [
    "Left off here.. "
   ]
  },
  {
   "cell_type": "code",
   "execution_count": null,
   "metadata": {},
   "outputs": [],
   "source": []
  },
  {
   "cell_type": "code",
   "execution_count": null,
   "metadata": {},
   "outputs": [],
   "source": []
  },
  {
   "cell_type": "code",
   "execution_count": null,
   "metadata": {},
   "outputs": [],
   "source": []
  },
  {
   "cell_type": "code",
   "execution_count": null,
   "metadata": {},
   "outputs": [],
   "source": []
  },
  {
   "cell_type": "code",
   "execution_count": null,
   "metadata": {},
   "outputs": [],
   "source": [
    "import plotly.graph_objects as go\n",
    "\n",
    "field =['Bluecollar', 'Marketing']\n",
    "\n",
    "fig = go.Figure(data=[\n",
    "    go.Bar(name='occurence', x=field, y=[19,12], \n",
    "          ),\n",
    "    go.Bar(name='no occurence', x=field, y=[81,88])\n",
    "])\n",
    "# Change the bar mode\n",
    "fig.update_layout(barmode='stack', title = \"Percent of Job Descriptions with Keywords\", \n",
    "       xaxis_title = 'Job Discipline', yaxis_title =  \n",
    "       'Percentage', width = 400, height = 400)\n",
    "fig.show()\n",
    "\n",
    "fig.write_html('../Capstone_US_Blue_Collar_workers/data/percent_of_postings_by_job.html')"
   ]
  },
  {
   "cell_type": "code",
   "execution_count": null,
   "metadata": {},
   "outputs": [],
   "source": [
    "bluecollar3['employer'] = bluecollar3['employer'].replace(\"Not Available\", 'Recruiter, Other 3rd Party')"
   ]
  },
  {
   "cell_type": "code",
   "execution_count": null,
   "metadata": {},
   "outputs": [],
   "source": [
    "bluecollar3['employer'].unique()"
   ]
  },
  {
   "cell_type": "code",
   "execution_count": null,
   "metadata": {},
   "outputs": [],
   "source": [
    "keyword_compare = bluecollar3.drop(columns = ['title', 'employer', 'full_description', 'education', 'min_pay', 'max_pay'])\n",
    "keyword_compare.head(3)"
   ]
  },
  {
   "cell_type": "code",
   "execution_count": null,
   "metadata": {},
   "outputs": [],
   "source": [
    "keyword_compare.info()"
   ]
  },
  {
   "cell_type": "code",
   "execution_count": null,
   "metadata": {},
   "outputs": [],
   "source": [
    "keyword_compare[['incentive', 'pay increase', 'immediately', 'bonus', 'no experience necessary', 'total keywords']].sum().plot(kind='bar',\n",
    "                                                                                                                            title='Keywords Found in Job Descriptions')\n",
    "plt.show()"
   ]
  },
  {
   "cell_type": "code",
   "execution_count": null,
   "metadata": {},
   "outputs": [],
   "source": [
    "keyword_compare = bluecollar3.drop(columns = ['title', 'employer', 'full_description', 'min_pay', 'max_pay'])\n",
    "keyword_compare.head(3)"
   ]
  },
  {
   "cell_type": "code",
   "execution_count": null,
   "metadata": {},
   "outputs": [],
   "source": [
    "keyword_compare['total keywords'].sum()"
   ]
  },
  {
   "cell_type": "code",
   "execution_count": null,
   "metadata": {},
   "outputs": [],
   "source": [
    "bc_percent = bluecollar3['total keywords'].sum() / bluecollar3['snippet'].count()*100\n",
    "bc_percent\n"
   ]
  },
  {
   "cell_type": "code",
   "execution_count": null,
   "metadata": {},
   "outputs": [],
   "source": [
    "bluecollar3.groupby('state')['total keywords'].sum().plot(kind = 'bar', title = 'Keyword Incidences by State')\n",
    "plt.show()"
   ]
  },
  {
   "cell_type": "code",
   "execution_count": null,
   "metadata": {},
   "outputs": [],
   "source": [
    "employer_compare = bluecollar3.groupby('employer')['total keywords'].sum().sort_values(ascending=False).head(10)\n",
    "employer_compare"
   ]
  },
  {
   "cell_type": "code",
   "execution_count": null,
   "metadata": {},
   "outputs": [],
   "source": []
  },
  {
   "cell_type": "code",
   "execution_count": null,
   "metadata": {},
   "outputs": [],
   "source": [
    "employer_compare.plot(kind='bar', title = 'Keyword Incidences by Employer (top 10)')\n",
    "plt.show()"
   ]
  },
  {
   "cell_type": "code",
   "execution_count": null,
   "metadata": {},
   "outputs": [],
   "source": [
    "bluecollar3.groupby('employer')['employer'].count().sort_values(ascending=False).head(10)#.plot(kind='bar', title='Job Postings by Employer')"
   ]
  },
  {
   "cell_type": "code",
   "execution_count": null,
   "metadata": {},
   "outputs": [],
   "source": [
    "#bluecollar3[bluecollar3.employer.isin(['Amazon Fulfillment', 'AMAZON.COM', 'Amazon.com, Inc.'])]\n",
    "#this produced 145 rows"
   ]
  },
  {
   "cell_type": "markdown",
   "metadata": {},
   "source": [
    "Tackle the wages for blue collar workers and compare against MIT living wage "
   ]
  },
  {
   "cell_type": "code",
   "execution_count": null,
   "metadata": {},
   "outputs": [],
   "source": [
    "wages = bluecollar3[['category', 'state', 'city', 'title', 'min_pay', 'max_pay']]"
   ]
  },
  {
   "cell_type": "code",
   "execution_count": null,
   "metadata": {},
   "outputs": [],
   "source": [
    "wages.info()"
   ]
  },
  {
   "cell_type": "code",
   "execution_count": null,
   "metadata": {},
   "outputs": [],
   "source": [
    "wages['min_pay'] = wages['min_pay'].str.replace(r\"[\\''\\,$]\", '').dropna()\n",
    "#.astype(int)   #.dropna() #test['Address 1'] = test['Address 1'].str.replace(r\"[\\\"\\',]\", '')"
   ]
  },
  {
   "cell_type": "code",
   "execution_count": null,
   "metadata": {},
   "outputs": [],
   "source": [
    "wages = wages.dropna()"
   ]
  },
  {
   "cell_type": "code",
   "execution_count": null,
   "metadata": {},
   "outputs": [],
   "source": [
    "wages.shape"
   ]
  },
  {
   "cell_type": "code",
   "execution_count": null,
   "metadata": {
    "scrolled": true
   },
   "outputs": [],
   "source": [
    "#wages.min_pay.unique()"
   ]
  },
  {
   "cell_type": "code",
   "execution_count": null,
   "metadata": {},
   "outputs": [],
   "source": [
    "#wages.max_pay.unique()"
   ]
  },
  {
   "cell_type": "code",
   "execution_count": null,
   "metadata": {},
   "outputs": [],
   "source": [
    "wages['max_pay'] = wages['max_pay'].str.replace(r\"[\\''\\,$]\", '')"
   ]
  },
  {
   "cell_type": "code",
   "execution_count": null,
   "metadata": {},
   "outputs": [],
   "source": [
    "wages['max_pay'].unique()"
   ]
  },
  {
   "cell_type": "code",
   "execution_count": null,
   "metadata": {},
   "outputs": [],
   "source": [
    "wages['min_pay'] = pd.to_numeric(wages['min_pay'])"
   ]
  },
  {
   "cell_type": "code",
   "execution_count": null,
   "metadata": {},
   "outputs": [],
   "source": [
    "wages = wages.sort_values(by = 'min_pay')"
   ]
  },
  {
   "cell_type": "code",
   "execution_count": null,
   "metadata": {},
   "outputs": [],
   "source": [
    "wages"
   ]
  },
  {
   "cell_type": "code",
   "execution_count": null,
   "metadata": {},
   "outputs": [],
   "source": [
    "wages[wages['min_pay'] >= 60000]"
   ]
  },
  {
   "cell_type": "code",
   "execution_count": null,
   "metadata": {},
   "outputs": [],
   "source": [
    "wages = wages[wages['min_pay']<=60000]"
   ]
  },
  {
   "cell_type": "code",
   "execution_count": null,
   "metadata": {},
   "outputs": [],
   "source": [
    "wages.shape"
   ]
  },
  {
   "cell_type": "code",
   "execution_count": null,
   "metadata": {},
   "outputs": [],
   "source": [
    "wages.tail(200)"
   ]
  },
  {
   "cell_type": "code",
   "execution_count": null,
   "metadata": {},
   "outputs": [],
   "source": [
    "wages_output = wages.to_csv('data/wages_output.csv')"
   ]
  },
  {
   "cell_type": "code",
   "execution_count": null,
   "metadata": {},
   "outputs": [],
   "source": [
    "wages_standardized = pd.read_csv('data/wages_output_standardized.csv', index_col=0)\n",
    "wages_standardized.head(3)"
   ]
  },
  {
   "cell_type": "code",
   "execution_count": null,
   "metadata": {},
   "outputs": [],
   "source": [
    "wages_standardized = wages_standardized.dropna()"
   ]
  },
  {
   "cell_type": "code",
   "execution_count": null,
   "metadata": {},
   "outputs": [],
   "source": [
    "wages_standardized['ave_pay'] = ((wages_standardized['min_pay_stdzd'] + wages_standardized['max_pay_stdzd'])/2)\n",
    "wages_standardized.head()"
   ]
  },
  {
   "cell_type": "code",
   "execution_count": null,
   "metadata": {},
   "outputs": [],
   "source": [
    "#wages_standardized.ave_pay.unique() "
   ]
  },
  {
   "cell_type": "code",
   "execution_count": null,
   "metadata": {},
   "outputs": [],
   "source": [
    "fig1 = px.histogram(wages_standardized, x = 'ave_pay', color = 'state', marginal = 'violin',\n",
    "                   hover_data = wages_standardized.columns, title='Blue Collar Wage Distribution by State')\n",
    "\n",
    "\n",
    "fig2 = px.histogram(wages_standardized, x='ave_pay', facet_col=\"state\", facet_col_wrap=2, color='state',\n",
    "                    nbins=350,\n",
    "                  #category_orders = {\"state\":['TN', 'TX']},\n",
    "                   height=450,\n",
    "                   title='Blue Collar Wage Distribution by State with MIT Living Wage Index'\n",
    "                  )\n",
    "\n",
    "fig2.add_shape(\n",
    "    dict(type=\"line\", x0=26.30, x1=27.00, y0=0, y1=250, line_color=\"yellow\"\n",
    "        ), row=\"all\", col=1\n",
    ")\n",
    "\n",
    "fig2.add_shape(\n",
    "    dict(type=\"line\", x0=28.68, x1=29.00, y0=0, y1=250, line_color=\"yellow\"), row=\"all\", col=2\n",
    ")\n",
    "\n",
    "fig1.show()\n",
    "fig2.show()\n",
    "\n"
   ]
  },
  {
   "cell_type": "markdown",
   "metadata": {},
   "source": [
    "Living Wage represents 1 Adult/1 Child, TN = 26.30, TX = 28.68   <br>\n",
    "Living Wage Source: Glasmeier, Amy K. Living Wage Calculator. 2020. Massachusetts Institute of Technology. livingwage.mit.edu. "
   ]
  },
  {
   "cell_type": "code",
   "execution_count": null,
   "metadata": {},
   "outputs": [],
   "source": []
  },
  {
   "cell_type": "code",
   "execution_count": null,
   "metadata": {},
   "outputs": [],
   "source": []
  },
  {
   "cell_type": "code",
   "execution_count": null,
   "metadata": {},
   "outputs": [],
   "source": []
  },
  {
   "cell_type": "code",
   "execution_count": null,
   "metadata": {},
   "outputs": [],
   "source": []
  },
  {
   "cell_type": "code",
   "execution_count": null,
   "metadata": {},
   "outputs": [],
   "source": []
  },
  {
   "cell_type": "code",
   "execution_count": null,
   "metadata": {},
   "outputs": [],
   "source": []
  },
  {
   "cell_type": "code",
   "execution_count": null,
   "metadata": {},
   "outputs": [],
   "source": []
  },
  {
   "cell_type": "code",
   "execution_count": null,
   "metadata": {},
   "outputs": [],
   "source": [
    "#potential app, https://plotly.com/python/horizontal-vertical-shapes/ \n",
    "# import dash\n",
    "# import dash_core_components as dcc\n",
    "# import dash_html_components as html\n",
    "# from dash.dependencies import Input, Output\n",
    "# import plotly.express as px\n",
    "\n",
    "# df = px.data.iris()\n",
    "\n",
    "# app = dash.Dash(__name__)\n",
    "\n",
    "# app.layout = html.Div([\n",
    "#     dcc.Graph(id=\"graph\"),\n",
    "#     html.P(\"Position of hline\"),\n",
    "#     dcc.Slider(\n",
    "#         id='slider-position', \n",
    "#         min=1, max=7, value=2.5, step=0.1,\n",
    "#         marks={1: '1', 7: '7'}\n",
    "#     )\n",
    "# ])\n",
    "\n",
    "# @app.callback(\n",
    "#     Output(\"graph\", \"figure\"), \n",
    "#     [Input(\"slider-position\", \"value\")])\n",
    "# def display_graph(pos_x):\n",
    "#     fig = px.scatter(\n",
    "#         df, x=\"petal_length\", y=\"petal_width\")\n",
    "#     fig.add_vline(\n",
    "#         x=pos_x, line_width=3, line_dash=\"dash\", \n",
    "#         line_color=\"green\")\n",
    "#     fig.add_hrect(\n",
    "#         y0=0.9, y1=2.6, line_width=0, \n",
    "#         fillcolor=\"red\", opacity=0.2)\n",
    "\n",
    "#     return fig\n",
    "\n",
    "# app.run_server(debug=True)"
   ]
  },
  {
   "cell_type": "code",
   "execution_count": null,
   "metadata": {},
   "outputs": [],
   "source": []
  },
  {
   "cell_type": "code",
   "execution_count": null,
   "metadata": {},
   "outputs": [],
   "source": []
  },
  {
   "cell_type": "markdown",
   "metadata": {},
   "source": [
    "Do a facet grid showing histogram of wages between TN & TX, and insert line showing MIT living wage for each state <br>\n",
    "Dash app:   https://dash.plotly.com/layout "
   ]
  },
  {
   "cell_type": "code",
   "execution_count": null,
   "metadata": {},
   "outputs": [],
   "source": []
  },
  {
   "cell_type": "code",
   "execution_count": null,
   "metadata": {},
   "outputs": [],
   "source": []
  },
  {
   "cell_type": "code",
   "execution_count": null,
   "metadata": {},
   "outputs": [],
   "source": []
  },
  {
   "cell_type": "code",
   "execution_count": null,
   "metadata": {},
   "outputs": [],
   "source": []
  },
  {
   "cell_type": "code",
   "execution_count": null,
   "metadata": {},
   "outputs": [],
   "source": []
  },
  {
   "cell_type": "code",
   "execution_count": null,
   "metadata": {},
   "outputs": [],
   "source": []
  },
  {
   "cell_type": "code",
   "execution_count": null,
   "metadata": {},
   "outputs": [],
   "source": []
  },
  {
   "cell_type": "code",
   "execution_count": null,
   "metadata": {},
   "outputs": [],
   "source": [
    "bc_jobs = bluecollar3.to_csv('data/bc_jobs.csv')"
   ]
  },
  {
   "cell_type": "code",
   "execution_count": null,
   "metadata": {},
   "outputs": [],
   "source": []
  },
  {
   "cell_type": "code",
   "execution_count": null,
   "metadata": {},
   "outputs": [],
   "source": []
  },
  {
   "cell_type": "code",
   "execution_count": null,
   "metadata": {},
   "outputs": [],
   "source": []
  },
  {
   "cell_type": "code",
   "execution_count": null,
   "metadata": {},
   "outputs": [],
   "source": []
  },
  {
   "cell_type": "code",
   "execution_count": null,
   "metadata": {},
   "outputs": [],
   "source": []
  },
  {
   "cell_type": "code",
   "execution_count": null,
   "metadata": {},
   "outputs": [],
   "source": []
  },
  {
   "cell_type": "code",
   "execution_count": null,
   "metadata": {},
   "outputs": [],
   "source": []
  },
  {
   "cell_type": "code",
   "execution_count": null,
   "metadata": {},
   "outputs": [],
   "source": []
  },
  {
   "cell_type": "code",
   "execution_count": null,
   "metadata": {},
   "outputs": [],
   "source": []
  },
  {
   "cell_type": "code",
   "execution_count": null,
   "metadata": {},
   "outputs": [],
   "source": []
  },
  {
   "cell_type": "code",
   "execution_count": null,
   "metadata": {},
   "outputs": [],
   "source": []
  },
  {
   "cell_type": "code",
   "execution_count": null,
   "metadata": {},
   "outputs": [],
   "source": []
  },
  {
   "cell_type": "code",
   "execution_count": null,
   "metadata": {},
   "outputs": [],
   "source": []
  },
  {
   "cell_type": "code",
   "execution_count": null,
   "metadata": {},
   "outputs": [],
   "source": []
  },
  {
   "cell_type": "code",
   "execution_count": null,
   "metadata": {},
   "outputs": [],
   "source": []
  },
  {
   "cell_type": "code",
   "execution_count": null,
   "metadata": {},
   "outputs": [],
   "source": [
    "\n",
    "\n",
    "# def preprocess_text(job_snippet):\n",
    "#     job_snippet = job_snippet.lower() # To lower\n",
    "#     translator = str.maketrans('', '', string.punctuation)\n",
    "#     job_snippet = job_snippet.translate(translator) # Removing punctuation\n",
    "#     filtered_words = [w for w in job_snippet.split() if w not in stopwords.words('english')] # Removing stopwords from the tokenized text\n",
    "#     return ' '.join(filtered_words) # returns the resulting list as a string"
   ]
  },
  {
   "cell_type": "code",
   "execution_count": null,
   "metadata": {},
   "outputs": [],
   "source": [
    "# KEYWORDS = ['bonus', 'bonuses', 'incentive', 'pay increase','training','immediately' ]\n",
    "\n",
    "# def count_keywords(job_snippet):\n",
    "#     counts = {}\n",
    "#     prep = preprocess_text(job_snippet)\n",
    "#     for kw in KEYWORDS:\n",
    "#         counts[kw] = prep.count(kw)\n",
    "#     return counts"
   ]
  },
  {
   "cell_type": "code",
   "execution_count": null,
   "metadata": {},
   "outputs": [],
   "source": [
    "# sum_incent = bluecollar3.drop(columns = ['title', 'job_snippet', 'location', 'full_description', 'min_pay', 'max_pay',\n",
    "#                                         'occur_snippet', 'occur_full_desc'])\n",
    "# sum_incent.sum(axis=0)"
   ]
  },
  {
   "cell_type": "code",
   "execution_count": null,
   "metadata": {},
   "outputs": [],
   "source": []
  },
  {
   "cell_type": "code",
   "execution_count": null,
   "metadata": {},
   "outputs": [],
   "source": [
    "#pie chart visual\n",
    "# labels = ['Oxygen','Hydrogen','Carbon_Dioxide','Nitrogen']\n",
    "# values = [4500, 2500, 1053, 500]\n",
    "\n",
    "# fig = go.Figure(data=[go.Pie(labels=labels, values=values, textinfo='label+percent',\n",
    "#                              insidetextorientation='radial'\n",
    "#                             )])\n",
    "# fig.show()"
   ]
  },
  {
   "cell_type": "code",
   "execution_count": null,
   "metadata": {},
   "outputs": [],
   "source": []
  },
  {
   "cell_type": "code",
   "execution_count": null,
   "metadata": {},
   "outputs": [],
   "source": [
    "# The State wages graph by itself \n",
    "# fig2 = px.histogram(wages_standardized, x='ave_pay', facet_col=\"state\", facet_col_wrap=2, color='state',\n",
    "#                   #category_orders = {\"state\":['TN', 'TX']},\n",
    "#                    height=500,\n",
    "#                    title='Blue Collar Wage Distribution by State with MIT Living Wage Index'\n",
    "#                   )\n",
    "\n",
    "# fig2.add_shape(\n",
    "#     dict(type=\"line\", x0=26.30, x1=27.00, y0=0, y1=250, line_color=\"yellow\"\n",
    "#         ), row=\"all\", col=1\n",
    "# )\n",
    "\n",
    "# fig2.add_shape(\n",
    "#     dict(type=\"line\", x0=28.68, x1=29.00, y0=0, y1=250, line_color=\"yellow\"), row=\"all\", col=2\n",
    "# )\n",
    "\n",
    "# fig2.show()"
   ]
  },
  {
   "cell_type": "code",
   "execution_count": null,
   "metadata": {},
   "outputs": [],
   "source": []
  },
  {
   "cell_type": "code",
   "execution_count": null,
   "metadata": {},
   "outputs": [],
   "source": []
  }
 ],
 "metadata": {
  "kernelspec": {
   "display_name": "Python 3",
   "language": "python",
   "name": "python3"
  },
  "language_info": {
   "codemirror_mode": {
    "name": "ipython",
    "version": 3
   },
   "file_extension": ".py",
   "mimetype": "text/x-python",
   "name": "python",
   "nbconvert_exporter": "python",
   "pygments_lexer": "ipython3",
   "version": "3.8.3"
  }
 },
 "nbformat": 4,
 "nbformat_minor": 4
}
